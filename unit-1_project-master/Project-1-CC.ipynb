{
 "cells": [
  {
   "cell_type": "markdown",
   "metadata": {},
   "source": [
    "<img src=\"http://imgur.com/1ZcRyrc.png\" style=\"float: left; margin: 20px; height: 55px\">\n",
    "\n",
    "# Project 1: Python Coding Exercises\n",
    "<br><br>\n",
    "_Instructor:_ Tim Book, General Assembly DC\n",
    "\n",
    "_Authors: Joseph Nelson (DC) _\n",
    "\n",
    "---\n",
    "\n",
    "### Due Date: 7/25/18 by midnight\n",
    "\n",
    "#### To Submit:\n",
    "Please fork this repo to your personal page. Solve the exercises in the blank cells provided and push. The graders will use the file diffences to grade."
   ]
  },
  {
   "cell_type": "markdown",
   "metadata": {},
   "source": [
    "The following code challenges are drawn from common exercises used in technical interviews.\n",
    "\n",
    "Please note that there may be several ways to approach each challenge. If you get stuck, try mapping out your approach in pseudocode first. Finally, while solutions to problems like these may be found online, remember that if you copy/paste code that you can't explain, you'll be missing out on the point of the project. The only way to truly learn a new skill is through practice, trial, and error - we can only help you improve by understanding where you are having trouble."
   ]
  },
  {
   "cell_type": "markdown",
   "metadata": {},
   "source": [
    "### Challenge 1: Largest Palindrome\n",
    "A palindromic number reads the same both ways. For example, 1234321 is a palindrome. The largest palindrome made from the product of two two-digit numbers is 9009 = 91 × 99. Find the largest palindrome made from the product of two three-digit numbers. Afterward, write a brief explanation walking through your code's logic in markdown."
   ]
  },
  {
   "cell_type": "code",
   "execution_count": 20,
   "metadata": {},
   "outputs": [
    {
     "name": "stdout",
     "output_type": "stream",
     "text": [
      "906609\n"
     ]
    }
   ],
   "source": [
    "#s[::-1]\n",
    "#easiest way to reverse a string!\n",
    "\n",
    "def pal(n): \n",
    "    return int(str(n)[::-1]) == n\n",
    "\n",
    "pal(9009) #should yield \"TRUE\"\n",
    "\n",
    "lgst_pal = 0\n",
    "for num in range(100,1000, 1): \n",
    "    for nums in range(num, 1000, 1):\n",
    "        product = num * nums\n",
    "        if pal(product) and product > lgst_pal:\n",
    "            lgst_pal = product \n",
    "            \n",
    "print(lgst_pal)\n",
    "    \n",
    "        \n",
    "        \n",
    "#for num in range(100,1000): \n",
    "    #if str(num) == str(num)[::-1]:\n",
    "        #palin_list.append(num)\n",
    "\n",
    "#print(palin_list)\n",
    "\n",
    "#largest_palin_list = palin_list[-2:]\n",
    "\n",
    "#print(largest_palin_list)\n",
    "#is there no built in multiplication function (like sum())?? \n",
    "\n",
    "#second_lgst_palin = largest_palin_list[0:1]\n",
    "#lgst_palin = largest_palin_list[1:2]\n",
    "\n",
    "#second_lgst_palin = int(second_lgst_palin)\n",
    "#lgst_palin = int(lgst_palin)\n",
    "\n",
    "#chal1_answer = (second_lgst_palin[0] * lgst_palin[0]) \n",
    "\n",
    "#print(second_lgst_palin)\n",
    "#print(lgst_palin)\n",
    "#print(chal1_answer)"
   ]
  },
  {
   "cell_type": "markdown",
   "metadata": {},
   "source": [
    "\n",
    "### Challenge 2: Summation of Primes\n",
    "The sum of the primes below 10 is 2 + 3 + 5 + 7 = 17. Find the sum of all the primes below 2,000. Afterward, write a brief explanation walking through your code's logic in markdown."
   ]
  },
  {
   "cell_type": "code",
   "execution_count": 48,
   "metadata": {},
   "outputs": [
    {
     "name": "stdout",
     "output_type": "stream",
     "text": [
      "277050\n"
     ]
    }
   ],
   "source": [
    "#first line creates a empty list, which will be appended to as more primes #'s are found\n",
    "prime_list = []\n",
    "#start of a loop that will go through all numbers (x) between 1 and 2000\n",
    "for number in range(1,2000,1):\n",
    "   # prime numbers are greater than 1\n",
    "   if number > 1:\n",
    "#start of another loop that checks for factors for all numbers in this range, if that == 0 then that numbers is\n",
    "#appended to the \"prime_list\" list\n",
    "       for x in range(2,number):\n",
    "           if (number % x) == 0:\n",
    "               break\n",
    "       else:\n",
    "           prime_list.append(number)\n",
    "\n",
    "            \n",
    "#print(prime_list)   \n",
    "#this code sums the prime number list together and assigns it a variable called \"chal2answer\"            \n",
    "chal2answer = sum(prime_list)\n",
    "\n",
    "print(chal2answer)"
   ]
  },
  {
   "cell_type": "markdown",
   "metadata": {},
   "source": [
    "# The above code: \n",
    "#### 1st: creates an empty list, which will be appended to as more primes #'s are found\n",
    "#### 2nd: Starts a loop that will go through all numbers (x) between 1 and 2000\n",
    "#### 3rd: ensures 1 is not included (1 is not considered prime) then checks for the amount of factors using the % expresion of all numbers between 2 and 2000\n",
    "#### 4th: appends these numbers back to the empty \"prime_list\"\n",
    "#### 5th: uses sum() to add the list together, and prints the result "
   ]
  },
  {
   "cell_type": "markdown",
   "metadata": {},
   "source": [
    "### Challenge 3: Multiples of 3 and 5\n",
    "If we list all of the natural numbers below 10 that are multiples of 3 or 5, we get 3, 5, 6, and 9. The sum of these multiples is 23. Find the sum of all the multiples of 3 and 5 below 1,000. Afterward, write a brief explanation walking through your code's logic in markdown."
   ]
  },
  {
   "cell_type": "code",
   "execution_count": 67,
   "metadata": {},
   "outputs": [
    {
     "name": "stdout",
     "output_type": "stream",
     "text": [
      "233168\n"
     ]
    }
   ],
   "source": [
    "nums_list = []\n",
    "\n",
    "for i in range(1,1000):\n",
    "    if i % 3 == 0 or i % 5 ==0:\n",
    "        nums_list.append(i)\n",
    "\n",
    "chal3answer = sum(nums_list)\n",
    "\n",
    "print(chal3answer)"
   ]
  },
  {
   "cell_type": "markdown",
   "metadata": {},
   "source": [
    "### The above code:\n",
    "#### 1st: Creates and empty list called num_list\n",
    "#### 2nd: creates a for loop for all numbers between 1 and 1000\n",
    "#### 3rd: if statement that appends all numbers that are divisible by 3 and 5 to \"num_list\" (use of the % operator to find out all multiples of 3 and 5) \n",
    "#### 4th: sum() the num_list together then print the answer"
   ]
  },
  {
   "cell_type": "markdown",
   "metadata": {},
   "source": [
    "### Challenge 4: String Compressor\n",
    "Implement a method to perform basic string compression using the counts of repeated characters. (This is called run-length encoding.) For example, the string \"aabcccccaaa\" would become a2b1c5a3. If the “compressed” string would not become smaller than the original string, your method should return the original string. You can assume the string has only uppercase and lowercase letters (a–z). Specify whether your solution is case sensitive or case insensitive and what you would need to change to make it the other. Afterward, write a brief explanation walking through your code's logic in markdown."
   ]
  },
  {
   "cell_type": "code",
   "execution_count": null,
   "metadata": {
    "collapsed": true
   },
   "outputs": [],
   "source": []
  },
  {
   "cell_type": "markdown",
   "metadata": {},
   "source": [
    "### *BONUS* Challenge: FizzBuzz\n",
    "Write a program that prints all of the numbers from 1 to 100. For multiples of 3, instead of the number, print \"Fizz;\" for multiples of 5, print \"Buzz.\" For numbers that are multiples of both 3 and 5, print \"FizzBuzz.\" Afterward, write a brief explanation walking through your code's logic in markdown."
   ]
  },
  {
   "cell_type": "code",
   "execution_count": null,
   "metadata": {
    "collapsed": true
   },
   "outputs": [],
   "source": []
  }
 ],
 "metadata": {
  "anaconda-cloud": {},
  "kernelspec": {
   "display_name": "Python 3",
   "language": "python",
   "name": "python3"
  },
  "language_info": {
   "codemirror_mode": {
    "name": "ipython",
    "version": 3
   },
   "file_extension": ".py",
   "mimetype": "text/x-python",
   "name": "python",
   "nbconvert_exporter": "python",
   "pygments_lexer": "ipython3",
   "version": "3.6.5"
  }
 },
 "nbformat": 4,
 "nbformat_minor": 2
}
