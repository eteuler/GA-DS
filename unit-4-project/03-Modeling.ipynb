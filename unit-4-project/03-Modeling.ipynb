{
 "cells": [
  {
   "cell_type": "code",
   "execution_count": 550,
   "metadata": {},
   "outputs": [],
   "source": [
    "#import numpy, pandas, and matplotlib\n",
    "import numpy as np\n",
    "import pandas as pd\n",
    "import matplotlib.pyplot as plt"
   ]
  },
  {
   "cell_type": "code",
   "execution_count": 551,
   "metadata": {},
   "outputs": [],
   "source": [
    "boxing = pd.read_csv('~/general_assembly/Project4_data/PostEDA_boxing.csv')"
   ]
  },
  {
   "cell_type": "code",
   "execution_count": 552,
   "metadata": {},
   "outputs": [
    {
     "data": {
      "text/html": [
       "<div>\n",
       "<style scoped>\n",
       "    .dataframe tbody tr th:only-of-type {\n",
       "        vertical-align: middle;\n",
       "    }\n",
       "\n",
       "    .dataframe tbody tr th {\n",
       "        vertical-align: top;\n",
       "    }\n",
       "\n",
       "    .dataframe thead th {\n",
       "        text-align: right;\n",
       "    }\n",
       "</style>\n",
       "<table border=\"1\" class=\"dataframe\">\n",
       "  <thead>\n",
       "    <tr style=\"text-align: right;\">\n",
       "      <th></th>\n",
       "      <th>Unnamed: 0</th>\n",
       "      <th>result</th>\n",
       "      <th>decision</th>\n",
       "      <th>ageDiff</th>\n",
       "      <th>weightDiff</th>\n",
       "      <th>heightDiff</th>\n",
       "      <th>reachDiff</th>\n",
       "      <th>total_bouts_A</th>\n",
       "      <th>total_bouts_B</th>\n",
       "      <th>KoPercent_A</th>\n",
       "      <th>KoPercent_B</th>\n",
       "      <th>WinPercent_A</th>\n",
       "      <th>WinPercent_B</th>\n",
       "      <th>LossPercent_A</th>\n",
       "      <th>LossPercent_B</th>\n",
       "      <th>DrawPercent_A</th>\n",
       "      <th>DrawPercent_B</th>\n",
       "    </tr>\n",
       "  </thead>\n",
       "  <tbody>\n",
       "    <tr>\n",
       "      <th>0</th>\n",
       "      <td>0</td>\n",
       "      <td>draw</td>\n",
       "      <td>SD</td>\n",
       "      <td>8.0</td>\n",
       "      <td>0.0</td>\n",
       "      <td>4.0</td>\n",
       "      <td>-1.0</td>\n",
       "      <td>37</td>\n",
       "      <td>50</td>\n",
       "      <td>89.189189</td>\n",
       "      <td>68.000000</td>\n",
       "      <td>100.000000</td>\n",
       "      <td>98.000000</td>\n",
       "      <td>0.000000</td>\n",
       "      <td>2.000000</td>\n",
       "      <td>0.000000</td>\n",
       "      <td>2.000000</td>\n",
       "    </tr>\n",
       "    <tr>\n",
       "      <th>1</th>\n",
       "      <td>1</td>\n",
       "      <td>win_A</td>\n",
       "      <td>UD</td>\n",
       "      <td>-5.0</td>\n",
       "      <td>0.0</td>\n",
       "      <td>-10.0</td>\n",
       "      <td>-6.0</td>\n",
       "      <td>49</td>\n",
       "      <td>52</td>\n",
       "      <td>69.387755</td>\n",
       "      <td>61.538462</td>\n",
       "      <td>97.959184</td>\n",
       "      <td>96.153846</td>\n",
       "      <td>2.040816</td>\n",
       "      <td>3.846154</td>\n",
       "      <td>2.040816</td>\n",
       "      <td>1.923077</td>\n",
       "    </tr>\n",
       "    <tr>\n",
       "      <th>2</th>\n",
       "      <td>3</td>\n",
       "      <td>win_A</td>\n",
       "      <td>KO</td>\n",
       "      <td>-4.0</td>\n",
       "      <td>0.0</td>\n",
       "      <td>1.0</td>\n",
       "      <td>-1.0</td>\n",
       "      <td>47</td>\n",
       "      <td>34</td>\n",
       "      <td>68.085106</td>\n",
       "      <td>55.882353</td>\n",
       "      <td>97.872340</td>\n",
       "      <td>91.176471</td>\n",
       "      <td>2.127660</td>\n",
       "      <td>8.823529</td>\n",
       "      <td>2.127660</td>\n",
       "      <td>0.000000</td>\n",
       "    </tr>\n",
       "    <tr>\n",
       "      <th>3</th>\n",
       "      <td>6</td>\n",
       "      <td>win_A</td>\n",
       "      <td>SD</td>\n",
       "      <td>-8.0</td>\n",
       "      <td>0.0</td>\n",
       "      <td>0.0</td>\n",
       "      <td>-9.0</td>\n",
       "      <td>44</td>\n",
       "      <td>20</td>\n",
       "      <td>70.454545</td>\n",
       "      <td>60.000000</td>\n",
       "      <td>97.727273</td>\n",
       "      <td>95.000000</td>\n",
       "      <td>2.272727</td>\n",
       "      <td>5.000000</td>\n",
       "      <td>2.272727</td>\n",
       "      <td>10.000000</td>\n",
       "    </tr>\n",
       "    <tr>\n",
       "      <th>4</th>\n",
       "      <td>10</td>\n",
       "      <td>win_A</td>\n",
       "      <td>TKO</td>\n",
       "      <td>-6.0</td>\n",
       "      <td>1.0</td>\n",
       "      <td>-2.0</td>\n",
       "      <td>4.0</td>\n",
       "      <td>40</td>\n",
       "      <td>34</td>\n",
       "      <td>72.500000</td>\n",
       "      <td>52.941176</td>\n",
       "      <td>100.000000</td>\n",
       "      <td>88.235294</td>\n",
       "      <td>0.000000</td>\n",
       "      <td>11.764706</td>\n",
       "      <td>2.500000</td>\n",
       "      <td>0.000000</td>\n",
       "    </tr>\n",
       "    <tr>\n",
       "      <th>5</th>\n",
       "      <td>11</td>\n",
       "      <td>win_A</td>\n",
       "      <td>UD</td>\n",
       "      <td>-19.0</td>\n",
       "      <td>0.0</td>\n",
       "      <td>1.0</td>\n",
       "      <td>-1.0</td>\n",
       "      <td>39</td>\n",
       "      <td>53</td>\n",
       "      <td>74.358974</td>\n",
       "      <td>73.584906</td>\n",
       "      <td>100.000000</td>\n",
       "      <td>86.792453</td>\n",
       "      <td>0.000000</td>\n",
       "      <td>13.207547</td>\n",
       "      <td>2.564103</td>\n",
       "      <td>1.886792</td>\n",
       "    </tr>\n",
       "    <tr>\n",
       "      <th>6</th>\n",
       "      <td>12</td>\n",
       "      <td>win_A</td>\n",
       "      <td>TKO</td>\n",
       "      <td>-11.0</td>\n",
       "      <td>0.0</td>\n",
       "      <td>-5.0</td>\n",
       "      <td>-9.0</td>\n",
       "      <td>38</td>\n",
       "      <td>37</td>\n",
       "      <td>73.684211</td>\n",
       "      <td>75.675676</td>\n",
       "      <td>100.000000</td>\n",
       "      <td>89.189189</td>\n",
       "      <td>0.000000</td>\n",
       "      <td>10.810811</td>\n",
       "      <td>2.631579</td>\n",
       "      <td>2.702703</td>\n",
       "    </tr>\n",
       "    <tr>\n",
       "      <th>7</th>\n",
       "      <td>19</td>\n",
       "      <td>win_A</td>\n",
       "      <td>TKO</td>\n",
       "      <td>-13.0</td>\n",
       "      <td>1.0</td>\n",
       "      <td>8.0</td>\n",
       "      <td>6.0</td>\n",
       "      <td>31</td>\n",
       "      <td>32</td>\n",
       "      <td>74.193548</td>\n",
       "      <td>71.875000</td>\n",
       "      <td>100.000000</td>\n",
       "      <td>96.875000</td>\n",
       "      <td>0.000000</td>\n",
       "      <td>3.125000</td>\n",
       "      <td>3.225806</td>\n",
       "      <td>3.125000</td>\n",
       "    </tr>\n",
       "    <tr>\n",
       "      <th>8</th>\n",
       "      <td>25</td>\n",
       "      <td>win_A</td>\n",
       "      <td>TKO</td>\n",
       "      <td>-8.0</td>\n",
       "      <td>0.0</td>\n",
       "      <td>-5.0</td>\n",
       "      <td>-9.0</td>\n",
       "      <td>25</td>\n",
       "      <td>25</td>\n",
       "      <td>72.000000</td>\n",
       "      <td>84.000000</td>\n",
       "      <td>100.000000</td>\n",
       "      <td>92.000000</td>\n",
       "      <td>0.000000</td>\n",
       "      <td>8.000000</td>\n",
       "      <td>4.000000</td>\n",
       "      <td>0.000000</td>\n",
       "    </tr>\n",
       "    <tr>\n",
       "      <th>9</th>\n",
       "      <td>28</td>\n",
       "      <td>win_A</td>\n",
       "      <td>TKO</td>\n",
       "      <td>-10.0</td>\n",
       "      <td>0.0</td>\n",
       "      <td>2.0</td>\n",
       "      <td>-4.0</td>\n",
       "      <td>22</td>\n",
       "      <td>17</td>\n",
       "      <td>68.181818</td>\n",
       "      <td>88.235294</td>\n",
       "      <td>100.000000</td>\n",
       "      <td>94.117647</td>\n",
       "      <td>0.000000</td>\n",
       "      <td>5.882353</td>\n",
       "      <td>4.545455</td>\n",
       "      <td>0.000000</td>\n",
       "    </tr>\n",
       "  </tbody>\n",
       "</table>\n",
       "</div>"
      ],
      "text/plain": [
       "   Unnamed: 0 result decision  ageDiff  weightDiff  heightDiff  reachDiff  \\\n",
       "0           0   draw       SD      8.0         0.0         4.0       -1.0   \n",
       "1           1  win_A       UD     -5.0         0.0       -10.0       -6.0   \n",
       "2           3  win_A       KO     -4.0         0.0         1.0       -1.0   \n",
       "3           6  win_A       SD     -8.0         0.0         0.0       -9.0   \n",
       "4          10  win_A      TKO     -6.0         1.0        -2.0        4.0   \n",
       "5          11  win_A       UD    -19.0         0.0         1.0       -1.0   \n",
       "6          12  win_A      TKO    -11.0         0.0        -5.0       -9.0   \n",
       "7          19  win_A      TKO    -13.0         1.0         8.0        6.0   \n",
       "8          25  win_A      TKO     -8.0         0.0        -5.0       -9.0   \n",
       "9          28  win_A      TKO    -10.0         0.0         2.0       -4.0   \n",
       "\n",
       "   total_bouts_A  total_bouts_B  KoPercent_A  KoPercent_B  WinPercent_A  \\\n",
       "0             37             50    89.189189    68.000000    100.000000   \n",
       "1             49             52    69.387755    61.538462     97.959184   \n",
       "2             47             34    68.085106    55.882353     97.872340   \n",
       "3             44             20    70.454545    60.000000     97.727273   \n",
       "4             40             34    72.500000    52.941176    100.000000   \n",
       "5             39             53    74.358974    73.584906    100.000000   \n",
       "6             38             37    73.684211    75.675676    100.000000   \n",
       "7             31             32    74.193548    71.875000    100.000000   \n",
       "8             25             25    72.000000    84.000000    100.000000   \n",
       "9             22             17    68.181818    88.235294    100.000000   \n",
       "\n",
       "   WinPercent_B  LossPercent_A  LossPercent_B  DrawPercent_A  DrawPercent_B  \n",
       "0     98.000000       0.000000       2.000000       0.000000       2.000000  \n",
       "1     96.153846       2.040816       3.846154       2.040816       1.923077  \n",
       "2     91.176471       2.127660       8.823529       2.127660       0.000000  \n",
       "3     95.000000       2.272727       5.000000       2.272727      10.000000  \n",
       "4     88.235294       0.000000      11.764706       2.500000       0.000000  \n",
       "5     86.792453       0.000000      13.207547       2.564103       1.886792  \n",
       "6     89.189189       0.000000      10.810811       2.631579       2.702703  \n",
       "7     96.875000       0.000000       3.125000       3.225806       3.125000  \n",
       "8     92.000000       0.000000       8.000000       4.000000       0.000000  \n",
       "9     94.117647       0.000000       5.882353       4.545455       0.000000  "
      ]
     },
     "execution_count": 552,
     "metadata": {},
     "output_type": "execute_result"
    }
   ],
   "source": [
    "boxing.head(10)"
   ]
  },
  {
   "cell_type": "code",
   "execution_count": 553,
   "metadata": {},
   "outputs": [],
   "source": [
    "boxing = boxing.drop(columns=['Unnamed: 0'])"
   ]
  },
  {
   "cell_type": "code",
   "execution_count": 554,
   "metadata": {},
   "outputs": [
    {
     "data": {
      "text/html": [
       "<div>\n",
       "<style scoped>\n",
       "    .dataframe tbody tr th:only-of-type {\n",
       "        vertical-align: middle;\n",
       "    }\n",
       "\n",
       "    .dataframe tbody tr th {\n",
       "        vertical-align: top;\n",
       "    }\n",
       "\n",
       "    .dataframe thead th {\n",
       "        text-align: right;\n",
       "    }\n",
       "</style>\n",
       "<table border=\"1\" class=\"dataframe\">\n",
       "  <thead>\n",
       "    <tr style=\"text-align: right;\">\n",
       "      <th></th>\n",
       "      <th>result</th>\n",
       "      <th>decision</th>\n",
       "      <th>ageDiff</th>\n",
       "      <th>weightDiff</th>\n",
       "      <th>heightDiff</th>\n",
       "      <th>reachDiff</th>\n",
       "      <th>total_bouts_A</th>\n",
       "      <th>total_bouts_B</th>\n",
       "      <th>KoPercent_A</th>\n",
       "      <th>KoPercent_B</th>\n",
       "      <th>WinPercent_A</th>\n",
       "      <th>WinPercent_B</th>\n",
       "      <th>LossPercent_A</th>\n",
       "      <th>LossPercent_B</th>\n",
       "      <th>DrawPercent_A</th>\n",
       "      <th>DrawPercent_B</th>\n",
       "    </tr>\n",
       "  </thead>\n",
       "  <tbody>\n",
       "    <tr>\n",
       "      <th>0</th>\n",
       "      <td>draw</td>\n",
       "      <td>SD</td>\n",
       "      <td>8.0</td>\n",
       "      <td>0.0</td>\n",
       "      <td>4.0</td>\n",
       "      <td>-1.0</td>\n",
       "      <td>37</td>\n",
       "      <td>50</td>\n",
       "      <td>89.189189</td>\n",
       "      <td>68.000000</td>\n",
       "      <td>100.000000</td>\n",
       "      <td>98.000000</td>\n",
       "      <td>0.000000</td>\n",
       "      <td>2.000000</td>\n",
       "      <td>0.000000</td>\n",
       "      <td>2.000000</td>\n",
       "    </tr>\n",
       "    <tr>\n",
       "      <th>1</th>\n",
       "      <td>win_A</td>\n",
       "      <td>UD</td>\n",
       "      <td>-5.0</td>\n",
       "      <td>0.0</td>\n",
       "      <td>-10.0</td>\n",
       "      <td>-6.0</td>\n",
       "      <td>49</td>\n",
       "      <td>52</td>\n",
       "      <td>69.387755</td>\n",
       "      <td>61.538462</td>\n",
       "      <td>97.959184</td>\n",
       "      <td>96.153846</td>\n",
       "      <td>2.040816</td>\n",
       "      <td>3.846154</td>\n",
       "      <td>2.040816</td>\n",
       "      <td>1.923077</td>\n",
       "    </tr>\n",
       "    <tr>\n",
       "      <th>2</th>\n",
       "      <td>win_A</td>\n",
       "      <td>KO</td>\n",
       "      <td>-4.0</td>\n",
       "      <td>0.0</td>\n",
       "      <td>1.0</td>\n",
       "      <td>-1.0</td>\n",
       "      <td>47</td>\n",
       "      <td>34</td>\n",
       "      <td>68.085106</td>\n",
       "      <td>55.882353</td>\n",
       "      <td>97.872340</td>\n",
       "      <td>91.176471</td>\n",
       "      <td>2.127660</td>\n",
       "      <td>8.823529</td>\n",
       "      <td>2.127660</td>\n",
       "      <td>0.000000</td>\n",
       "    </tr>\n",
       "    <tr>\n",
       "      <th>3</th>\n",
       "      <td>win_A</td>\n",
       "      <td>SD</td>\n",
       "      <td>-8.0</td>\n",
       "      <td>0.0</td>\n",
       "      <td>0.0</td>\n",
       "      <td>-9.0</td>\n",
       "      <td>44</td>\n",
       "      <td>20</td>\n",
       "      <td>70.454545</td>\n",
       "      <td>60.000000</td>\n",
       "      <td>97.727273</td>\n",
       "      <td>95.000000</td>\n",
       "      <td>2.272727</td>\n",
       "      <td>5.000000</td>\n",
       "      <td>2.272727</td>\n",
       "      <td>10.000000</td>\n",
       "    </tr>\n",
       "    <tr>\n",
       "      <th>4</th>\n",
       "      <td>win_A</td>\n",
       "      <td>TKO</td>\n",
       "      <td>-6.0</td>\n",
       "      <td>1.0</td>\n",
       "      <td>-2.0</td>\n",
       "      <td>4.0</td>\n",
       "      <td>40</td>\n",
       "      <td>34</td>\n",
       "      <td>72.500000</td>\n",
       "      <td>52.941176</td>\n",
       "      <td>100.000000</td>\n",
       "      <td>88.235294</td>\n",
       "      <td>0.000000</td>\n",
       "      <td>11.764706</td>\n",
       "      <td>2.500000</td>\n",
       "      <td>0.000000</td>\n",
       "    </tr>\n",
       "    <tr>\n",
       "      <th>5</th>\n",
       "      <td>win_A</td>\n",
       "      <td>UD</td>\n",
       "      <td>-19.0</td>\n",
       "      <td>0.0</td>\n",
       "      <td>1.0</td>\n",
       "      <td>-1.0</td>\n",
       "      <td>39</td>\n",
       "      <td>53</td>\n",
       "      <td>74.358974</td>\n",
       "      <td>73.584906</td>\n",
       "      <td>100.000000</td>\n",
       "      <td>86.792453</td>\n",
       "      <td>0.000000</td>\n",
       "      <td>13.207547</td>\n",
       "      <td>2.564103</td>\n",
       "      <td>1.886792</td>\n",
       "    </tr>\n",
       "    <tr>\n",
       "      <th>6</th>\n",
       "      <td>win_A</td>\n",
       "      <td>TKO</td>\n",
       "      <td>-11.0</td>\n",
       "      <td>0.0</td>\n",
       "      <td>-5.0</td>\n",
       "      <td>-9.0</td>\n",
       "      <td>38</td>\n",
       "      <td>37</td>\n",
       "      <td>73.684211</td>\n",
       "      <td>75.675676</td>\n",
       "      <td>100.000000</td>\n",
       "      <td>89.189189</td>\n",
       "      <td>0.000000</td>\n",
       "      <td>10.810811</td>\n",
       "      <td>2.631579</td>\n",
       "      <td>2.702703</td>\n",
       "    </tr>\n",
       "    <tr>\n",
       "      <th>7</th>\n",
       "      <td>win_A</td>\n",
       "      <td>TKO</td>\n",
       "      <td>-13.0</td>\n",
       "      <td>1.0</td>\n",
       "      <td>8.0</td>\n",
       "      <td>6.0</td>\n",
       "      <td>31</td>\n",
       "      <td>32</td>\n",
       "      <td>74.193548</td>\n",
       "      <td>71.875000</td>\n",
       "      <td>100.000000</td>\n",
       "      <td>96.875000</td>\n",
       "      <td>0.000000</td>\n",
       "      <td>3.125000</td>\n",
       "      <td>3.225806</td>\n",
       "      <td>3.125000</td>\n",
       "    </tr>\n",
       "    <tr>\n",
       "      <th>8</th>\n",
       "      <td>win_A</td>\n",
       "      <td>TKO</td>\n",
       "      <td>-8.0</td>\n",
       "      <td>0.0</td>\n",
       "      <td>-5.0</td>\n",
       "      <td>-9.0</td>\n",
       "      <td>25</td>\n",
       "      <td>25</td>\n",
       "      <td>72.000000</td>\n",
       "      <td>84.000000</td>\n",
       "      <td>100.000000</td>\n",
       "      <td>92.000000</td>\n",
       "      <td>0.000000</td>\n",
       "      <td>8.000000</td>\n",
       "      <td>4.000000</td>\n",
       "      <td>0.000000</td>\n",
       "    </tr>\n",
       "    <tr>\n",
       "      <th>9</th>\n",
       "      <td>win_A</td>\n",
       "      <td>TKO</td>\n",
       "      <td>-10.0</td>\n",
       "      <td>0.0</td>\n",
       "      <td>2.0</td>\n",
       "      <td>-4.0</td>\n",
       "      <td>22</td>\n",
       "      <td>17</td>\n",
       "      <td>68.181818</td>\n",
       "      <td>88.235294</td>\n",
       "      <td>100.000000</td>\n",
       "      <td>94.117647</td>\n",
       "      <td>0.000000</td>\n",
       "      <td>5.882353</td>\n",
       "      <td>4.545455</td>\n",
       "      <td>0.000000</td>\n",
       "    </tr>\n",
       "  </tbody>\n",
       "</table>\n",
       "</div>"
      ],
      "text/plain": [
       "  result decision  ageDiff  weightDiff  heightDiff  reachDiff  total_bouts_A  \\\n",
       "0   draw       SD      8.0         0.0         4.0       -1.0             37   \n",
       "1  win_A       UD     -5.0         0.0       -10.0       -6.0             49   \n",
       "2  win_A       KO     -4.0         0.0         1.0       -1.0             47   \n",
       "3  win_A       SD     -8.0         0.0         0.0       -9.0             44   \n",
       "4  win_A      TKO     -6.0         1.0        -2.0        4.0             40   \n",
       "5  win_A       UD    -19.0         0.0         1.0       -1.0             39   \n",
       "6  win_A      TKO    -11.0         0.0        -5.0       -9.0             38   \n",
       "7  win_A      TKO    -13.0         1.0         8.0        6.0             31   \n",
       "8  win_A      TKO     -8.0         0.0        -5.0       -9.0             25   \n",
       "9  win_A      TKO    -10.0         0.0         2.0       -4.0             22   \n",
       "\n",
       "   total_bouts_B  KoPercent_A  KoPercent_B  WinPercent_A  WinPercent_B  \\\n",
       "0             50    89.189189    68.000000    100.000000     98.000000   \n",
       "1             52    69.387755    61.538462     97.959184     96.153846   \n",
       "2             34    68.085106    55.882353     97.872340     91.176471   \n",
       "3             20    70.454545    60.000000     97.727273     95.000000   \n",
       "4             34    72.500000    52.941176    100.000000     88.235294   \n",
       "5             53    74.358974    73.584906    100.000000     86.792453   \n",
       "6             37    73.684211    75.675676    100.000000     89.189189   \n",
       "7             32    74.193548    71.875000    100.000000     96.875000   \n",
       "8             25    72.000000    84.000000    100.000000     92.000000   \n",
       "9             17    68.181818    88.235294    100.000000     94.117647   \n",
       "\n",
       "   LossPercent_A  LossPercent_B  DrawPercent_A  DrawPercent_B  \n",
       "0       0.000000       2.000000       0.000000       2.000000  \n",
       "1       2.040816       3.846154       2.040816       1.923077  \n",
       "2       2.127660       8.823529       2.127660       0.000000  \n",
       "3       2.272727       5.000000       2.272727      10.000000  \n",
       "4       0.000000      11.764706       2.500000       0.000000  \n",
       "5       0.000000      13.207547       2.564103       1.886792  \n",
       "6       0.000000      10.810811       2.631579       2.702703  \n",
       "7       0.000000       3.125000       3.225806       3.125000  \n",
       "8       0.000000       8.000000       4.000000       0.000000  \n",
       "9       0.000000       5.882353       4.545455       0.000000  "
      ]
     },
     "execution_count": 554,
     "metadata": {},
     "output_type": "execute_result"
    }
   ],
   "source": [
    "boxing.head(10)"
   ]
  },
  {
   "cell_type": "code",
   "execution_count": 555,
   "metadata": {},
   "outputs": [],
   "source": [
    "boxing['result_map'] = boxing.result.map({'win_A':0, 'win_B':1, 'draw':2})"
   ]
  },
  {
   "cell_type": "code",
   "execution_count": 556,
   "metadata": {
    "scrolled": true
   },
   "outputs": [
    {
     "data": {
      "text/html": [
       "<div>\n",
       "<style scoped>\n",
       "    .dataframe tbody tr th:only-of-type {\n",
       "        vertical-align: middle;\n",
       "    }\n",
       "\n",
       "    .dataframe tbody tr th {\n",
       "        vertical-align: top;\n",
       "    }\n",
       "\n",
       "    .dataframe thead th {\n",
       "        text-align: right;\n",
       "    }\n",
       "</style>\n",
       "<table border=\"1\" class=\"dataframe\">\n",
       "  <thead>\n",
       "    <tr style=\"text-align: right;\">\n",
       "      <th></th>\n",
       "      <th>result</th>\n",
       "      <th>decision</th>\n",
       "      <th>ageDiff</th>\n",
       "      <th>weightDiff</th>\n",
       "      <th>heightDiff</th>\n",
       "      <th>reachDiff</th>\n",
       "      <th>total_bouts_A</th>\n",
       "      <th>total_bouts_B</th>\n",
       "      <th>KoPercent_A</th>\n",
       "      <th>KoPercent_B</th>\n",
       "      <th>WinPercent_A</th>\n",
       "      <th>WinPercent_B</th>\n",
       "      <th>LossPercent_A</th>\n",
       "      <th>LossPercent_B</th>\n",
       "      <th>DrawPercent_A</th>\n",
       "      <th>DrawPercent_B</th>\n",
       "      <th>result_map</th>\n",
       "    </tr>\n",
       "  </thead>\n",
       "  <tbody>\n",
       "    <tr>\n",
       "      <th>0</th>\n",
       "      <td>draw</td>\n",
       "      <td>SD</td>\n",
       "      <td>8.0</td>\n",
       "      <td>0.0</td>\n",
       "      <td>4.0</td>\n",
       "      <td>-1.0</td>\n",
       "      <td>37</td>\n",
       "      <td>50</td>\n",
       "      <td>89.189189</td>\n",
       "      <td>68.000000</td>\n",
       "      <td>100.000000</td>\n",
       "      <td>98.000000</td>\n",
       "      <td>0.000000</td>\n",
       "      <td>2.000000</td>\n",
       "      <td>0.000000</td>\n",
       "      <td>2.000000</td>\n",
       "      <td>2</td>\n",
       "    </tr>\n",
       "    <tr>\n",
       "      <th>1</th>\n",
       "      <td>win_A</td>\n",
       "      <td>UD</td>\n",
       "      <td>-5.0</td>\n",
       "      <td>0.0</td>\n",
       "      <td>-10.0</td>\n",
       "      <td>-6.0</td>\n",
       "      <td>49</td>\n",
       "      <td>52</td>\n",
       "      <td>69.387755</td>\n",
       "      <td>61.538462</td>\n",
       "      <td>97.959184</td>\n",
       "      <td>96.153846</td>\n",
       "      <td>2.040816</td>\n",
       "      <td>3.846154</td>\n",
       "      <td>2.040816</td>\n",
       "      <td>1.923077</td>\n",
       "      <td>0</td>\n",
       "    </tr>\n",
       "    <tr>\n",
       "      <th>2</th>\n",
       "      <td>win_A</td>\n",
       "      <td>KO</td>\n",
       "      <td>-4.0</td>\n",
       "      <td>0.0</td>\n",
       "      <td>1.0</td>\n",
       "      <td>-1.0</td>\n",
       "      <td>47</td>\n",
       "      <td>34</td>\n",
       "      <td>68.085106</td>\n",
       "      <td>55.882353</td>\n",
       "      <td>97.872340</td>\n",
       "      <td>91.176471</td>\n",
       "      <td>2.127660</td>\n",
       "      <td>8.823529</td>\n",
       "      <td>2.127660</td>\n",
       "      <td>0.000000</td>\n",
       "      <td>0</td>\n",
       "    </tr>\n",
       "    <tr>\n",
       "      <th>3</th>\n",
       "      <td>win_A</td>\n",
       "      <td>SD</td>\n",
       "      <td>-8.0</td>\n",
       "      <td>0.0</td>\n",
       "      <td>0.0</td>\n",
       "      <td>-9.0</td>\n",
       "      <td>44</td>\n",
       "      <td>20</td>\n",
       "      <td>70.454545</td>\n",
       "      <td>60.000000</td>\n",
       "      <td>97.727273</td>\n",
       "      <td>95.000000</td>\n",
       "      <td>2.272727</td>\n",
       "      <td>5.000000</td>\n",
       "      <td>2.272727</td>\n",
       "      <td>10.000000</td>\n",
       "      <td>0</td>\n",
       "    </tr>\n",
       "    <tr>\n",
       "      <th>4</th>\n",
       "      <td>win_A</td>\n",
       "      <td>TKO</td>\n",
       "      <td>-6.0</td>\n",
       "      <td>1.0</td>\n",
       "      <td>-2.0</td>\n",
       "      <td>4.0</td>\n",
       "      <td>40</td>\n",
       "      <td>34</td>\n",
       "      <td>72.500000</td>\n",
       "      <td>52.941176</td>\n",
       "      <td>100.000000</td>\n",
       "      <td>88.235294</td>\n",
       "      <td>0.000000</td>\n",
       "      <td>11.764706</td>\n",
       "      <td>2.500000</td>\n",
       "      <td>0.000000</td>\n",
       "      <td>0</td>\n",
       "    </tr>\n",
       "    <tr>\n",
       "      <th>5</th>\n",
       "      <td>win_A</td>\n",
       "      <td>UD</td>\n",
       "      <td>-19.0</td>\n",
       "      <td>0.0</td>\n",
       "      <td>1.0</td>\n",
       "      <td>-1.0</td>\n",
       "      <td>39</td>\n",
       "      <td>53</td>\n",
       "      <td>74.358974</td>\n",
       "      <td>73.584906</td>\n",
       "      <td>100.000000</td>\n",
       "      <td>86.792453</td>\n",
       "      <td>0.000000</td>\n",
       "      <td>13.207547</td>\n",
       "      <td>2.564103</td>\n",
       "      <td>1.886792</td>\n",
       "      <td>0</td>\n",
       "    </tr>\n",
       "    <tr>\n",
       "      <th>6</th>\n",
       "      <td>win_A</td>\n",
       "      <td>TKO</td>\n",
       "      <td>-11.0</td>\n",
       "      <td>0.0</td>\n",
       "      <td>-5.0</td>\n",
       "      <td>-9.0</td>\n",
       "      <td>38</td>\n",
       "      <td>37</td>\n",
       "      <td>73.684211</td>\n",
       "      <td>75.675676</td>\n",
       "      <td>100.000000</td>\n",
       "      <td>89.189189</td>\n",
       "      <td>0.000000</td>\n",
       "      <td>10.810811</td>\n",
       "      <td>2.631579</td>\n",
       "      <td>2.702703</td>\n",
       "      <td>0</td>\n",
       "    </tr>\n",
       "    <tr>\n",
       "      <th>7</th>\n",
       "      <td>win_A</td>\n",
       "      <td>TKO</td>\n",
       "      <td>-13.0</td>\n",
       "      <td>1.0</td>\n",
       "      <td>8.0</td>\n",
       "      <td>6.0</td>\n",
       "      <td>31</td>\n",
       "      <td>32</td>\n",
       "      <td>74.193548</td>\n",
       "      <td>71.875000</td>\n",
       "      <td>100.000000</td>\n",
       "      <td>96.875000</td>\n",
       "      <td>0.000000</td>\n",
       "      <td>3.125000</td>\n",
       "      <td>3.225806</td>\n",
       "      <td>3.125000</td>\n",
       "      <td>0</td>\n",
       "    </tr>\n",
       "    <tr>\n",
       "      <th>8</th>\n",
       "      <td>win_A</td>\n",
       "      <td>TKO</td>\n",
       "      <td>-8.0</td>\n",
       "      <td>0.0</td>\n",
       "      <td>-5.0</td>\n",
       "      <td>-9.0</td>\n",
       "      <td>25</td>\n",
       "      <td>25</td>\n",
       "      <td>72.000000</td>\n",
       "      <td>84.000000</td>\n",
       "      <td>100.000000</td>\n",
       "      <td>92.000000</td>\n",
       "      <td>0.000000</td>\n",
       "      <td>8.000000</td>\n",
       "      <td>4.000000</td>\n",
       "      <td>0.000000</td>\n",
       "      <td>0</td>\n",
       "    </tr>\n",
       "    <tr>\n",
       "      <th>9</th>\n",
       "      <td>win_A</td>\n",
       "      <td>TKO</td>\n",
       "      <td>-10.0</td>\n",
       "      <td>0.0</td>\n",
       "      <td>2.0</td>\n",
       "      <td>-4.0</td>\n",
       "      <td>22</td>\n",
       "      <td>17</td>\n",
       "      <td>68.181818</td>\n",
       "      <td>88.235294</td>\n",
       "      <td>100.000000</td>\n",
       "      <td>94.117647</td>\n",
       "      <td>0.000000</td>\n",
       "      <td>5.882353</td>\n",
       "      <td>4.545455</td>\n",
       "      <td>0.000000</td>\n",
       "      <td>0</td>\n",
       "    </tr>\n",
       "  </tbody>\n",
       "</table>\n",
       "</div>"
      ],
      "text/plain": [
       "  result decision  ageDiff  weightDiff  heightDiff  reachDiff  total_bouts_A  \\\n",
       "0   draw       SD      8.0         0.0         4.0       -1.0             37   \n",
       "1  win_A       UD     -5.0         0.0       -10.0       -6.0             49   \n",
       "2  win_A       KO     -4.0         0.0         1.0       -1.0             47   \n",
       "3  win_A       SD     -8.0         0.0         0.0       -9.0             44   \n",
       "4  win_A      TKO     -6.0         1.0        -2.0        4.0             40   \n",
       "5  win_A       UD    -19.0         0.0         1.0       -1.0             39   \n",
       "6  win_A      TKO    -11.0         0.0        -5.0       -9.0             38   \n",
       "7  win_A      TKO    -13.0         1.0         8.0        6.0             31   \n",
       "8  win_A      TKO     -8.0         0.0        -5.0       -9.0             25   \n",
       "9  win_A      TKO    -10.0         0.0         2.0       -4.0             22   \n",
       "\n",
       "   total_bouts_B  KoPercent_A  KoPercent_B  WinPercent_A  WinPercent_B  \\\n",
       "0             50    89.189189    68.000000    100.000000     98.000000   \n",
       "1             52    69.387755    61.538462     97.959184     96.153846   \n",
       "2             34    68.085106    55.882353     97.872340     91.176471   \n",
       "3             20    70.454545    60.000000     97.727273     95.000000   \n",
       "4             34    72.500000    52.941176    100.000000     88.235294   \n",
       "5             53    74.358974    73.584906    100.000000     86.792453   \n",
       "6             37    73.684211    75.675676    100.000000     89.189189   \n",
       "7             32    74.193548    71.875000    100.000000     96.875000   \n",
       "8             25    72.000000    84.000000    100.000000     92.000000   \n",
       "9             17    68.181818    88.235294    100.000000     94.117647   \n",
       "\n",
       "   LossPercent_A  LossPercent_B  DrawPercent_A  DrawPercent_B  result_map  \n",
       "0       0.000000       2.000000       0.000000       2.000000           2  \n",
       "1       2.040816       3.846154       2.040816       1.923077           0  \n",
       "2       2.127660       8.823529       2.127660       0.000000           0  \n",
       "3       2.272727       5.000000       2.272727      10.000000           0  \n",
       "4       0.000000      11.764706       2.500000       0.000000           0  \n",
       "5       0.000000      13.207547       2.564103       1.886792           0  \n",
       "6       0.000000      10.810811       2.631579       2.702703           0  \n",
       "7       0.000000       3.125000       3.225806       3.125000           0  \n",
       "8       0.000000       8.000000       4.000000       0.000000           0  \n",
       "9       0.000000       5.882353       4.545455       0.000000           0  "
      ]
     },
     "execution_count": 556,
     "metadata": {},
     "output_type": "execute_result"
    }
   ],
   "source": [
    "boxing.head(10)"
   ]
  },
  {
   "cell_type": "markdown",
   "metadata": {},
   "source": [
    "## Multinomial Logistic Regression attempt, three potential outcomes win_A, win_B, and draw"
   ]
  },
  {
   "cell_type": "code",
   "execution_count": 557,
   "metadata": {},
   "outputs": [],
   "source": [
    "from sklearn.linear_model import LogisticRegression\n",
    "from sklearn import model_selection, metrics\n",
    "logreg = LogisticRegression(C=100, solver='newton-cg', multi_class='multinomial')\n",
    "feats = ['ageDiff', 'weightDiff', 'heightDiff', 'reachDiff', 'total_bouts_A', 'total_bouts_B',\n",
    "         'KoPercent_A', 'KoPercent_B', 'WinPercent_A', 'WinPercent_B', 'DrawPercent_A', 'DrawPercent_B']\n",
    "#decided to exclude loss percentages and keep just win % and draw %\n",
    "X = boxing[feats]\n",
    "y = boxing.result_map"
   ]
  },
  {
   "cell_type": "markdown",
   "metadata": {},
   "source": [
    "## Fitting a logistic regression model without train/test/split first"
   ]
  },
  {
   "cell_type": "code",
   "execution_count": 558,
   "metadata": {},
   "outputs": [
    {
     "data": {
      "text/plain": [
       "LogisticRegression(C=100, class_weight=None, dual=False, fit_intercept=True,\n",
       "          intercept_scaling=1, max_iter=100, multi_class='multinomial',\n",
       "          n_jobs=1, penalty='l2', random_state=None, solver='newton-cg',\n",
       "          tol=0.0001, verbose=0, warm_start=False)"
      ]
     },
     "execution_count": 558,
     "metadata": {},
     "output_type": "execute_result"
    }
   ],
   "source": [
    "logreg.fit(X, y)"
   ]
  },
  {
   "cell_type": "code",
   "execution_count": 559,
   "metadata": {},
   "outputs": [
    {
     "data": {
      "text/plain": [
       "0.8280897185006774"
      ]
     },
     "execution_count": 559,
     "metadata": {},
     "output_type": "execute_result"
    }
   ],
   "source": [
    "logreg.score(X, y)"
   ]
  },
  {
   "cell_type": "markdown",
   "metadata": {},
   "source": [
    "## Multinomial Logistic Regression with a train/test/split "
   ]
  },
  {
   "cell_type": "code",
   "execution_count": 560,
   "metadata": {},
   "outputs": [],
   "source": [
    "X_train, X_test, y_train, y_test = model_selection.train_test_split(X, y, random_state=42)\n",
    "boxing_logreg = logreg.fit(X_train, y_train)"
   ]
  },
  {
   "cell_type": "code",
   "execution_count": 561,
   "metadata": {},
   "outputs": [
    {
     "data": {
      "text/plain": [
       "0    5483\n",
       "1     909\n",
       "2     251\n",
       "Name: result_map, dtype: int64"
      ]
     },
     "execution_count": 561,
     "metadata": {},
     "output_type": "execute_result"
    }
   ],
   "source": [
    "boxing.result_map.value_counts()"
   ]
  },
  {
   "cell_type": "code",
   "execution_count": 562,
   "metadata": {},
   "outputs": [
    {
     "data": {
      "text/plain": [
       "0.8253800993527021"
      ]
     },
     "execution_count": 562,
     "metadata": {},
     "output_type": "execute_result"
    }
   ],
   "source": [
    "# find out baseline score for logistic regression \n",
    "# how accurate a model would be if it predicted the most common outcome everytime \n",
    "5483/len(boxing.result_map)"
   ]
  },
  {
   "cell_type": "markdown",
   "metadata": {},
   "source": [
    "## Fairly high baseline score -____-, run this cell to get accuracy on the test set for our multinomial logistic model \n",
    "## The Multinomial Logistic Regression model score appears to be worse than the baseline socre"
   ]
  },
  {
   "cell_type": "code",
   "execution_count": 563,
   "metadata": {},
   "outputs": [
    {
     "name": "stdout",
     "output_type": "stream",
     "text": [
      "0.822998193859121\n"
     ]
    }
   ],
   "source": [
    "print(boxing_logreg.score(X_test, y_test))"
   ]
  },
  {
   "cell_type": "code",
   "execution_count": 564,
   "metadata": {},
   "outputs": [
    {
     "data": {
      "text/plain": [
       "[('ageDiff', -0.03491886633585393),\n",
       " ('weightDiff', 0.0036066620728561092),\n",
       " ('heightDiff', -0.0020854090111602254),\n",
       " ('reachDiff', 0.002836108905468291),\n",
       " ('total_bouts_A', 0.0010900123696677595),\n",
       " ('total_bouts_B', -0.0013795247035022107),\n",
       " ('KoPercent_A', 0.005892940594370305),\n",
       " ('KoPercent_B', 0.007067266415539067),\n",
       " ('WinPercent_A', 0.018799112940483514),\n",
       " ('WinPercent_B', -0.02342003596870805),\n",
       " ('DrawPercent_A', -0.007827570103641459),\n",
       " ('DrawPercent_B', -0.008747858927287704)]"
      ]
     },
     "execution_count": 564,
     "metadata": {},
     "output_type": "execute_result"
    }
   ],
   "source": [
    "list(zip(feats, logreg.coef_[0]))"
   ]
  },
  {
   "cell_type": "code",
   "execution_count": 565,
   "metadata": {},
   "outputs": [],
   "source": [
    "# lets try scaling this data seeing that as almost 83% of the results are \"win_A\"\n",
    "from sklearn.preprocessing import StandardScaler\n",
    "\n",
    "scaler = StandardScaler()\n",
    "scaler.fit(X_train)\n",
    "scaledX_train = scaler.transform(X_train)\n",
    "scaledX_test = scaler.transform(X_test)"
   ]
  },
  {
   "cell_type": "code",
   "execution_count": 566,
   "metadata": {},
   "outputs": [
    {
     "name": "stdout",
     "output_type": "stream",
     "text": [
      "0.822998193859121\n"
     ]
    }
   ],
   "source": [
    "logreg.fit(scaledX_train, y_train)\n",
    "scaledy_pred_class = logreg.predict(scaledX_test)\n",
    "#scaledBoxing_logreg.score(y_test, scaledy_pred_class)\n",
    "print(metrics.accuracy_score(y_test, scaledy_pred_class))"
   ]
  },
  {
   "cell_type": "markdown",
   "metadata": {},
   "source": [
    "## Scaling does not appear to improve the score"
   ]
  },
  {
   "cell_type": "code",
   "execution_count": 567,
   "metadata": {},
   "outputs": [],
   "source": [
    "# probability predictions\n",
    "logit_pred_proba = boxing_logreg.predict_proba(X_test)[:,1]"
   ]
  },
  {
   "cell_type": "code",
   "execution_count": 568,
   "metadata": {},
   "outputs": [
    {
     "data": {
      "text/plain": [
       "array([[ 298, 1067,    0],\n",
       "       [  12,  212,    0],\n",
       "       [   3,   69,    0]])"
      ]
     },
     "execution_count": 568,
     "metadata": {},
     "output_type": "execute_result"
    }
   ],
   "source": [
    "#attempt to create a confusion matrix to guage how model is preforming, likely going to continue to use accuracy score\n",
    "#to compare the different models\n",
    "metrics.confusion_matrix(y_true=y_test, y_pred=logit_pred_proba > .5)"
   ]
  },
  {
   "cell_type": "markdown",
   "metadata": {},
   "source": [
    "## KNN model attempt "
   ]
  },
  {
   "cell_type": "code",
   "execution_count": 569,
   "metadata": {},
   "outputs": [],
   "source": [
    "from sklearn.neighbors import KNeighborsClassifier\n",
    "knnX = boxing[feats]\n",
    "knny = boxing.result_map\n",
    "\n",
    "knnX_train, knnX_test, knny_train, knny_test = model_selection.train_test_split(knnX, knny, random_state=99)"
   ]
  },
  {
   "cell_type": "code",
   "execution_count": 570,
   "metadata": {},
   "outputs": [
    {
     "data": {
      "text/plain": [
       "KNeighborsClassifier(algorithm='auto', leaf_size=30, metric='minkowski',\n",
       "           metric_params=None, n_jobs=1, n_neighbors=5, p=2,\n",
       "           weights='uniform')"
      ]
     },
     "execution_count": 570,
     "metadata": {},
     "output_type": "execute_result"
    }
   ],
   "source": [
    "knn = KNeighborsClassifier(n_neighbors=5)\n",
    "knn.fit(knnX_train, knny_train)"
   ]
  },
  {
   "cell_type": "code",
   "execution_count": 571,
   "metadata": {},
   "outputs": [],
   "source": [
    "knny_pred_class = knn.predict(knnX_test)"
   ]
  },
  {
   "cell_type": "code",
   "execution_count": 572,
   "metadata": {},
   "outputs": [
    {
     "name": "stdout",
     "output_type": "stream",
     "text": [
      "0.8133654425045154\n"
     ]
    }
   ],
   "source": [
    "print((metrics.accuracy_score(knny_test, knny_pred_class)))"
   ]
  },
  {
   "cell_type": "code",
   "execution_count": 573,
   "metadata": {},
   "outputs": [],
   "source": [
    "#plot to see which folds will lead to most accurate model \n",
    "#for loop that iterates through range 1-100 # of folds, and calculates accuracy on test set \n",
    "scores = []\n",
    "for k in range(1,101):\n",
    "    knn = KNeighborsClassifier(n_neighbors=k)\n",
    "    knn.fit(knnX_train,knny_train)\n",
    "    score = knn.score(knnX_test, knny_test)\n",
    "    scores.append([k, score])"
   ]
  },
  {
   "cell_type": "code",
   "execution_count": 574,
   "metadata": {},
   "outputs": [
    {
     "data": {
      "image/png": "[encoded data removed]",
      "text/plain": [
       "<Figure size 432x288 with 1 Axes>"
      ]
     },
     "metadata": {},
     "output_type": "display_data"
    }
   ],
   "source": [
    "# x axis = k (number of folds)      y axis = accuracy score on test set given k\n",
    "foldplot = pd.DataFrame(scores,columns=['k','score'])\n",
    "foldplot.plot.line(x='k',y='score');"
   ]
  },
  {
   "cell_type": "code",
   "execution_count": 575,
   "metadata": {},
   "outputs": [
    {
     "data": {
      "text/html": [
       "<div>\n",
       "<style scoped>\n",
       "    .dataframe tbody tr th:only-of-type {\n",
       "        vertical-align: middle;\n",
       "    }\n",
       "\n",
       "    .dataframe tbody tr th {\n",
       "        vertical-align: top;\n",
       "    }\n",
       "\n",
       "    .dataframe thead th {\n",
       "        text-align: right;\n",
       "    }\n",
       "</style>\n",
       "<table border=\"1\" class=\"dataframe\">\n",
       "  <thead>\n",
       "    <tr style=\"text-align: right;\">\n",
       "      <th></th>\n",
       "      <th>k</th>\n",
       "      <th>score</th>\n",
       "    </tr>\n",
       "  </thead>\n",
       "  <tbody>\n",
       "    <tr>\n",
       "      <th>16</th>\n",
       "      <td>17</td>\n",
       "      <td>0.827213</td>\n",
       "    </tr>\n",
       "    <tr>\n",
       "      <th>15</th>\n",
       "      <td>16</td>\n",
       "      <td>0.827213</td>\n",
       "    </tr>\n",
       "    <tr>\n",
       "      <th>13</th>\n",
       "      <td>14</td>\n",
       "      <td>0.827213</td>\n",
       "    </tr>\n",
       "    <tr>\n",
       "      <th>14</th>\n",
       "      <td>15</td>\n",
       "      <td>0.826008</td>\n",
       "    </tr>\n",
       "    <tr>\n",
       "      <th>42</th>\n",
       "      <td>43</td>\n",
       "      <td>0.825406</td>\n",
       "    </tr>\n",
       "  </tbody>\n",
       "</table>\n",
       "</div>"
      ],
      "text/plain": [
       "     k     score\n",
       "16  17  0.827213\n",
       "15  16  0.827213\n",
       "13  14  0.827213\n",
       "14  15  0.826008\n",
       "42  43  0.825406"
      ]
     },
     "execution_count": 575,
     "metadata": {},
     "output_type": "execute_result"
    }
   ],
   "source": [
    "foldplot.sort_values('score', ascending=False).head()"
   ]
  },
  {
   "cell_type": "markdown",
   "metadata": {},
   "source": [
    "## Appears that 17 folds will lead to the highest model accuracy score, even higher than multinomial logistic regression model score"
   ]
  },
  {
   "cell_type": "markdown",
   "metadata": {},
   "source": [
    "## Now attempt to scale the data to see if that improves model accuracy "
   ]
  },
  {
   "cell_type": "code",
   "execution_count": 576,
   "metadata": {},
   "outputs": [],
   "source": [
    "from sklearn.preprocessing import StandardScaler\n",
    "\n",
    "scaler = StandardScaler()\n",
    "scaler.fit(knnX_train)\n",
    "scX_train = scaler.transform(knnX_train)\n",
    "scX_test = scaler.transform(knnX_test)"
   ]
  },
  {
   "cell_type": "code",
   "execution_count": 577,
   "metadata": {},
   "outputs": [
    {
     "name": "stdout",
     "output_type": "stream",
     "text": [
      "0.8254063816977725\n"
     ]
    }
   ],
   "source": [
    "#train a knn on the sclaed data, using the number of folds we know yields highest model accuracy\n",
    "knn = KNeighborsClassifier(n_neighbors=17)\n",
    "knn.fit(scX_train, knny_train)\n",
    "\n",
    "scy_pred_class = knn.predict(scX_test)\n",
    "print(metrics.accuracy_score(knny_test, scy_pred_class))\n"
   ]
  },
  {
   "cell_type": "markdown",
   "metadata": {},
   "source": [
    "# It appears that scaling the model does not improve overall model accuracy "
   ]
  },
  {
   "cell_type": "code",
   "execution_count": 578,
   "metadata": {},
   "outputs": [],
   "source": [
    "#try random forest\n",
    "from sklearn.ensemble import RandomForestClassifier\n",
    "rf = RandomForestClassifier(n_estimators=10,\n",
    "                              max_features=None,\n",
    "                              random_state=1)"
   ]
  },
  {
   "cell_type": "code",
   "execution_count": 579,
   "metadata": {},
   "outputs": [],
   "source": [
    "rfX = boxing[feats]\n",
    "rfy = boxing.result_map\n",
    "\n",
    "rfX_train, rfX_test, rfy_train, rfy_test = model_selection.train_test_split(rfX, rfy, random_state=99)"
   ]
  },
  {
   "cell_type": "code",
   "execution_count": 580,
   "metadata": {},
   "outputs": [
    {
     "name": "stdout",
     "output_type": "stream",
     "text": [
      "rf acc: 0.8368452739313667\n"
     ]
    }
   ],
   "source": [
    "rf.fit(rfX_train, rfy_train)\n",
    "rf_yhat = rf.predict(rfX_test)\n",
    "print('rf acc:', metrics.accuracy_score(rfy_test, rf_yhat))"
   ]
  },
  {
   "cell_type": "code",
   "execution_count": 581,
   "metadata": {},
   "outputs": [],
   "source": [
    "#find out how many features yields highest score for the random forest model\n",
    "rf_scores = []\n",
    "for n_feats in range(1,13):\n",
    "    rfc = RandomForestClassifier(max_features=n_feats)\n",
    "    rfc.fit(rfX_train,rfy_train)\n",
    "    rf_score = rfc.score(rfX_test, rfy_test)\n",
    "    rf_scores.append([n_feats, rf_score])\n",
    "    \n",
    "rf_scres = []\n",
    "for n_ests in range(1, 150):\n",
    "    rfc = RandomForestClassifier(n_estimators=n_ests)\n",
    "    rfc.fit(rfX_train,rfy_train)\n",
    "    rf_scre = rfc.score(rfX_test, rfy_test)\n",
    "    rf_scres.append([n_ests, rf_scre])"
   ]
  },
  {
   "cell_type": "code",
   "execution_count": 582,
   "metadata": {},
   "outputs": [
    {
     "data": {
      "image/png": "[encoded data removed]",
      "text/plain": [
       "<Figure size 432x288 with 1 Axes>"
      ]
     },
     "metadata": {},
     "output_type": "display_data"
    }
   ],
   "source": [
    "featsplot = pd.DataFrame(rf_scores,columns=['n_feats','rf_score'])\n",
    "featsplot.plot.line(x='n_feats',y='rf_score');"
   ]
  },
  {
   "cell_type": "code",
   "execution_count": 583,
   "metadata": {},
   "outputs": [
    {
     "data": {
      "image/png": "[encoded data removed]",
      "text/plain": [
       "<Figure size 432x288 with 1 Axes>"
      ]
     },
     "metadata": {},
     "output_type": "display_data"
    }
   ],
   "source": [
    "estsplot = pd.DataFrame(rf_scres,columns=['n_ests','rf_scre'])\n",
    "estsplot.plot.line(x='n_ests',y='rf_scre');"
   ]
  },
  {
   "cell_type": "code",
   "execution_count": 584,
   "metadata": {},
   "outputs": [
    {
     "name": "stdout",
     "output_type": "stream",
     "text": [
      "    n_feats  rf_score\n",
      "0         1  0.845274\n",
      "2         3  0.844070\n",
      "1         2  0.840458\n",
      "7         8  0.840458\n",
      "3         4  0.839253\n",
      "4         5  0.839253\n",
      "9        10  0.838049\n",
      "11       12  0.836243\n",
      "5         6  0.835641\n",
      "8         9  0.835641\n",
      "6         7  0.833835\n",
      "10       11  0.832029\n",
      "0.8383503913305237\n",
      "     n_ests   rf_scre\n",
      "44       45  0.854305\n",
      "120     121  0.853703\n",
      "126     127  0.853703\n",
      "57       58  0.853703\n",
      "55       56  0.853101\n",
      "75       76  0.852498\n",
      "124     125  0.852498\n",
      "46       47  0.852498\n",
      "47       48  0.852498\n",
      "49       50  0.852498\n"
     ]
    }
   ],
   "source": [
    "print(featsplot.sort_values('rf_score', ascending=False))\n",
    "print(featsplot.rf_score.mean())\n",
    "print(estsplot.sort_values('rf_scre', ascending=False).head(10))"
   ]
  },
  {
   "cell_type": "code",
   "execution_count": 588,
   "metadata": {},
   "outputs": [],
   "source": [
    "# final maximization of rf model now that we know the best values for estimators\n",
    "rf_scores = []\n",
    "for n_feats in range(1,13):\n",
    "    rfc = RandomForestClassifier(max_features=n_feats, n_estimators=45)\n",
    "    rfc.fit(rfX_train,rfy_train)\n",
    "    rf_score = rfc.score(rfX_test, rfy_test)\n",
    "    rf_scores.append([n_feats, rf_score])"
   ]
  },
  {
   "cell_type": "code",
   "execution_count": 589,
   "metadata": {},
   "outputs": [
    {
     "name": "stdout",
     "output_type": "stream",
     "text": [
      "    n_feats  rf_score\n",
      "0         1  0.849488\n",
      "4         5  0.849488\n",
      "1         2  0.848886\n",
      "7         8  0.848886\n",
      "9        10  0.848886\n",
      "2         3  0.847682\n",
      "3         4  0.847080\n",
      "5         6  0.846478\n",
      "8         9  0.845274\n",
      "10       11  0.843468\n",
      "11       12  0.843468\n",
      "6         7  0.842264\n"
     ]
    }
   ],
   "source": [
    "final_rfscores = pd.DataFrame(rf_scores,columns=['n_feats','rf_score'])\n",
    "print(final_rfscores.sort_values('rf_score', ascending=False))"
   ]
  },
  {
   "cell_type": "markdown",
   "metadata": {},
   "source": [
    "## Appears that the random forest model accuracy has exceeded those of KNN and logistic regression\n",
    "## With estimators at 45 and features at 5 we get an accuracy score of .8494!"
   ]
  },
  {
   "cell_type": "markdown",
   "metadata": {},
   "source": [
    "## For the predicting decison model try Mutinomial Logistic Regression, Knn, and Random Forest\n",
    "\n",
    "\n",
    "## SECOND MODEL, manipulate data first to add dummy variables for result "
   ]
  },
  {
   "cell_type": "code",
   "execution_count": 591,
   "metadata": {},
   "outputs": [],
   "source": [
    "result_dummies = pd.get_dummies(boxing.result, prefix='result')\n",
    "boxing_res = pd.concat([boxing, result_dummies], axis=1)"
   ]
  },
  {
   "cell_type": "code",
   "execution_count": 592,
   "metadata": {},
   "outputs": [
    {
     "data": {
      "text/html": [
       "<div>\n",
       "<style scoped>\n",
       "    .dataframe tbody tr th:only-of-type {\n",
       "        vertical-align: middle;\n",
       "    }\n",
       "\n",
       "    .dataframe tbody tr th {\n",
       "        vertical-align: top;\n",
       "    }\n",
       "\n",
       "    .dataframe thead th {\n",
       "        text-align: right;\n",
       "    }\n",
       "</style>\n",
       "<table border=\"1\" class=\"dataframe\">\n",
       "  <thead>\n",
       "    <tr style=\"text-align: right;\">\n",
       "      <th></th>\n",
       "      <th>result</th>\n",
       "      <th>decision</th>\n",
       "      <th>ageDiff</th>\n",
       "      <th>weightDiff</th>\n",
       "      <th>heightDiff</th>\n",
       "      <th>reachDiff</th>\n",
       "      <th>total_bouts_A</th>\n",
       "      <th>total_bouts_B</th>\n",
       "      <th>KoPercent_A</th>\n",
       "      <th>KoPercent_B</th>\n",
       "      <th>WinPercent_A</th>\n",
       "      <th>WinPercent_B</th>\n",
       "      <th>LossPercent_A</th>\n",
       "      <th>LossPercent_B</th>\n",
       "      <th>DrawPercent_A</th>\n",
       "      <th>DrawPercent_B</th>\n",
       "      <th>result_map</th>\n",
       "      <th>result_draw</th>\n",
       "      <th>result_win_A</th>\n",
       "      <th>result_win_B</th>\n",
       "    </tr>\n",
       "  </thead>\n",
       "  <tbody>\n",
       "    <tr>\n",
       "      <th>0</th>\n",
       "      <td>draw</td>\n",
       "      <td>SD</td>\n",
       "      <td>8.0</td>\n",
       "      <td>0.0</td>\n",
       "      <td>4.0</td>\n",
       "      <td>-1.0</td>\n",
       "      <td>37</td>\n",
       "      <td>50</td>\n",
       "      <td>89.189189</td>\n",
       "      <td>68.000000</td>\n",
       "      <td>100.000000</td>\n",
       "      <td>98.000000</td>\n",
       "      <td>0.000000</td>\n",
       "      <td>2.000000</td>\n",
       "      <td>0.000000</td>\n",
       "      <td>2.000000</td>\n",
       "      <td>2</td>\n",
       "      <td>1</td>\n",
       "      <td>0</td>\n",
       "      <td>0</td>\n",
       "    </tr>\n",
       "    <tr>\n",
       "      <th>1</th>\n",
       "      <td>win_A</td>\n",
       "      <td>UD</td>\n",
       "      <td>-5.0</td>\n",
       "      <td>0.0</td>\n",
       "      <td>-10.0</td>\n",
       "      <td>-6.0</td>\n",
       "      <td>49</td>\n",
       "      <td>52</td>\n",
       "      <td>69.387755</td>\n",
       "      <td>61.538462</td>\n",
       "      <td>97.959184</td>\n",
       "      <td>96.153846</td>\n",
       "      <td>2.040816</td>\n",
       "      <td>3.846154</td>\n",
       "      <td>2.040816</td>\n",
       "      <td>1.923077</td>\n",
       "      <td>0</td>\n",
       "      <td>0</td>\n",
       "      <td>1</td>\n",
       "      <td>0</td>\n",
       "    </tr>\n",
       "    <tr>\n",
       "      <th>2</th>\n",
       "      <td>win_A</td>\n",
       "      <td>KO</td>\n",
       "      <td>-4.0</td>\n",
       "      <td>0.0</td>\n",
       "      <td>1.0</td>\n",
       "      <td>-1.0</td>\n",
       "      <td>47</td>\n",
       "      <td>34</td>\n",
       "      <td>68.085106</td>\n",
       "      <td>55.882353</td>\n",
       "      <td>97.872340</td>\n",
       "      <td>91.176471</td>\n",
       "      <td>2.127660</td>\n",
       "      <td>8.823529</td>\n",
       "      <td>2.127660</td>\n",
       "      <td>0.000000</td>\n",
       "      <td>0</td>\n",
       "      <td>0</td>\n",
       "      <td>1</td>\n",
       "      <td>0</td>\n",
       "    </tr>\n",
       "    <tr>\n",
       "      <th>3</th>\n",
       "      <td>win_A</td>\n",
       "      <td>SD</td>\n",
       "      <td>-8.0</td>\n",
       "      <td>0.0</td>\n",
       "      <td>0.0</td>\n",
       "      <td>-9.0</td>\n",
       "      <td>44</td>\n",
       "      <td>20</td>\n",
       "      <td>70.454545</td>\n",
       "      <td>60.000000</td>\n",
       "      <td>97.727273</td>\n",
       "      <td>95.000000</td>\n",
       "      <td>2.272727</td>\n",
       "      <td>5.000000</td>\n",
       "      <td>2.272727</td>\n",
       "      <td>10.000000</td>\n",
       "      <td>0</td>\n",
       "      <td>0</td>\n",
       "      <td>1</td>\n",
       "      <td>0</td>\n",
       "    </tr>\n",
       "    <tr>\n",
       "      <th>4</th>\n",
       "      <td>win_A</td>\n",
       "      <td>TKO</td>\n",
       "      <td>-6.0</td>\n",
       "      <td>1.0</td>\n",
       "      <td>-2.0</td>\n",
       "      <td>4.0</td>\n",
       "      <td>40</td>\n",
       "      <td>34</td>\n",
       "      <td>72.500000</td>\n",
       "      <td>52.941176</td>\n",
       "      <td>100.000000</td>\n",
       "      <td>88.235294</td>\n",
       "      <td>0.000000</td>\n",
       "      <td>11.764706</td>\n",
       "      <td>2.500000</td>\n",
       "      <td>0.000000</td>\n",
       "      <td>0</td>\n",
       "      <td>0</td>\n",
       "      <td>1</td>\n",
       "      <td>0</td>\n",
       "    </tr>\n",
       "  </tbody>\n",
       "</table>\n",
       "</div>"
      ],
      "text/plain": [
       "  result decision  ageDiff  weightDiff  heightDiff  reachDiff  total_bouts_A  \\\n",
       "0   draw       SD      8.0         0.0         4.0       -1.0             37   \n",
       "1  win_A       UD     -5.0         0.0       -10.0       -6.0             49   \n",
       "2  win_A       KO     -4.0         0.0         1.0       -1.0             47   \n",
       "3  win_A       SD     -8.0         0.0         0.0       -9.0             44   \n",
       "4  win_A      TKO     -6.0         1.0        -2.0        4.0             40   \n",
       "\n",
       "   total_bouts_B  KoPercent_A  KoPercent_B  WinPercent_A  WinPercent_B  \\\n",
       "0             50    89.189189    68.000000    100.000000     98.000000   \n",
       "1             52    69.387755    61.538462     97.959184     96.153846   \n",
       "2             34    68.085106    55.882353     97.872340     91.176471   \n",
       "3             20    70.454545    60.000000     97.727273     95.000000   \n",
       "4             34    72.500000    52.941176    100.000000     88.235294   \n",
       "\n",
       "   LossPercent_A  LossPercent_B  DrawPercent_A  DrawPercent_B  result_map  \\\n",
       "0       0.000000       2.000000       0.000000       2.000000           2   \n",
       "1       2.040816       3.846154       2.040816       1.923077           0   \n",
       "2       2.127660       8.823529       2.127660       0.000000           0   \n",
       "3       2.272727       5.000000       2.272727      10.000000           0   \n",
       "4       0.000000      11.764706       2.500000       0.000000           0   \n",
       "\n",
       "   result_draw  result_win_A  result_win_B  \n",
       "0            1             0             0  \n",
       "1            0             1             0  \n",
       "2            0             1             0  \n",
       "3            0             1             0  \n",
       "4            0             1             0  "
      ]
     },
     "execution_count": 592,
     "metadata": {},
     "output_type": "execute_result"
    }
   ],
   "source": [
    "boxing_res.head()"
   ]
  },
  {
   "cell_type": "code",
   "execution_count": 593,
   "metadata": {},
   "outputs": [],
   "source": [
    "boxing_res['decision_map'] = boxing_res.decision.map({'KO':0, 'MD':1, 'PTS':2, 'SD':3, 'TKO':4, 'UD':5})"
   ]
  },
  {
   "cell_type": "code",
   "execution_count": 594,
   "metadata": {},
   "outputs": [
    {
     "data": {
      "text/plain": [
       "5    2293\n",
       "4    1941\n",
       "0    1009\n",
       "2     607\n",
       "3     480\n",
       "1     313\n",
       "Name: decision_map, dtype: int64"
      ]
     },
     "execution_count": 594,
     "metadata": {},
     "output_type": "execute_result"
    }
   ],
   "source": [
    "#get value counts so that baseline accuracy can be caluculated\n",
    "boxing_res.decision_map.value_counts()"
   ]
  },
  {
   "cell_type": "code",
   "execution_count": 595,
   "metadata": {},
   "outputs": [
    {
     "data": {
      "text/plain": [
       "0.34517537257263287"
      ]
     },
     "execution_count": 595,
     "metadata": {},
     "output_type": "execute_result"
    }
   ],
   "source": [
    "# baseline score is how accurate it would be if model predicted most common outcome each time \n",
    "2293/len(boxing_res.decision_map)"
   ]
  },
  {
   "cell_type": "code",
   "execution_count": 596,
   "metadata": {},
   "outputs": [
    {
     "data": {
      "text/html": [
       "<div>\n",
       "<style scoped>\n",
       "    .dataframe tbody tr th:only-of-type {\n",
       "        vertical-align: middle;\n",
       "    }\n",
       "\n",
       "    .dataframe tbody tr th {\n",
       "        vertical-align: top;\n",
       "    }\n",
       "\n",
       "    .dataframe thead th {\n",
       "        text-align: right;\n",
       "    }\n",
       "</style>\n",
       "<table border=\"1\" class=\"dataframe\">\n",
       "  <thead>\n",
       "    <tr style=\"text-align: right;\">\n",
       "      <th></th>\n",
       "      <th>result</th>\n",
       "      <th>decision</th>\n",
       "      <th>ageDiff</th>\n",
       "      <th>weightDiff</th>\n",
       "      <th>heightDiff</th>\n",
       "      <th>reachDiff</th>\n",
       "      <th>total_bouts_A</th>\n",
       "      <th>total_bouts_B</th>\n",
       "      <th>KoPercent_A</th>\n",
       "      <th>KoPercent_B</th>\n",
       "      <th>...</th>\n",
       "      <th>WinPercent_B</th>\n",
       "      <th>LossPercent_A</th>\n",
       "      <th>LossPercent_B</th>\n",
       "      <th>DrawPercent_A</th>\n",
       "      <th>DrawPercent_B</th>\n",
       "      <th>result_map</th>\n",
       "      <th>result_draw</th>\n",
       "      <th>result_win_A</th>\n",
       "      <th>result_win_B</th>\n",
       "      <th>decision_map</th>\n",
       "    </tr>\n",
       "  </thead>\n",
       "  <tbody>\n",
       "    <tr>\n",
       "      <th>0</th>\n",
       "      <td>draw</td>\n",
       "      <td>SD</td>\n",
       "      <td>8.0</td>\n",
       "      <td>0.0</td>\n",
       "      <td>4.0</td>\n",
       "      <td>-1.0</td>\n",
       "      <td>37</td>\n",
       "      <td>50</td>\n",
       "      <td>89.189189</td>\n",
       "      <td>68.000000</td>\n",
       "      <td>...</td>\n",
       "      <td>98.000000</td>\n",
       "      <td>0.000000</td>\n",
       "      <td>2.000000</td>\n",
       "      <td>0.000000</td>\n",
       "      <td>2.000000</td>\n",
       "      <td>2</td>\n",
       "      <td>1</td>\n",
       "      <td>0</td>\n",
       "      <td>0</td>\n",
       "      <td>3</td>\n",
       "    </tr>\n",
       "    <tr>\n",
       "      <th>1</th>\n",
       "      <td>win_A</td>\n",
       "      <td>UD</td>\n",
       "      <td>-5.0</td>\n",
       "      <td>0.0</td>\n",
       "      <td>-10.0</td>\n",
       "      <td>-6.0</td>\n",
       "      <td>49</td>\n",
       "      <td>52</td>\n",
       "      <td>69.387755</td>\n",
       "      <td>61.538462</td>\n",
       "      <td>...</td>\n",
       "      <td>96.153846</td>\n",
       "      <td>2.040816</td>\n",
       "      <td>3.846154</td>\n",
       "      <td>2.040816</td>\n",
       "      <td>1.923077</td>\n",
       "      <td>0</td>\n",
       "      <td>0</td>\n",
       "      <td>1</td>\n",
       "      <td>0</td>\n",
       "      <td>5</td>\n",
       "    </tr>\n",
       "    <tr>\n",
       "      <th>2</th>\n",
       "      <td>win_A</td>\n",
       "      <td>KO</td>\n",
       "      <td>-4.0</td>\n",
       "      <td>0.0</td>\n",
       "      <td>1.0</td>\n",
       "      <td>-1.0</td>\n",
       "      <td>47</td>\n",
       "      <td>34</td>\n",
       "      <td>68.085106</td>\n",
       "      <td>55.882353</td>\n",
       "      <td>...</td>\n",
       "      <td>91.176471</td>\n",
       "      <td>2.127660</td>\n",
       "      <td>8.823529</td>\n",
       "      <td>2.127660</td>\n",
       "      <td>0.000000</td>\n",
       "      <td>0</td>\n",
       "      <td>0</td>\n",
       "      <td>1</td>\n",
       "      <td>0</td>\n",
       "      <td>0</td>\n",
       "    </tr>\n",
       "    <tr>\n",
       "      <th>3</th>\n",
       "      <td>win_A</td>\n",
       "      <td>SD</td>\n",
       "      <td>-8.0</td>\n",
       "      <td>0.0</td>\n",
       "      <td>0.0</td>\n",
       "      <td>-9.0</td>\n",
       "      <td>44</td>\n",
       "      <td>20</td>\n",
       "      <td>70.454545</td>\n",
       "      <td>60.000000</td>\n",
       "      <td>...</td>\n",
       "      <td>95.000000</td>\n",
       "      <td>2.272727</td>\n",
       "      <td>5.000000</td>\n",
       "      <td>2.272727</td>\n",
       "      <td>10.000000</td>\n",
       "      <td>0</td>\n",
       "      <td>0</td>\n",
       "      <td>1</td>\n",
       "      <td>0</td>\n",
       "      <td>3</td>\n",
       "    </tr>\n",
       "    <tr>\n",
       "      <th>4</th>\n",
       "      <td>win_A</td>\n",
       "      <td>TKO</td>\n",
       "      <td>-6.0</td>\n",
       "      <td>1.0</td>\n",
       "      <td>-2.0</td>\n",
       "      <td>4.0</td>\n",
       "      <td>40</td>\n",
       "      <td>34</td>\n",
       "      <td>72.500000</td>\n",
       "      <td>52.941176</td>\n",
       "      <td>...</td>\n",
       "      <td>88.235294</td>\n",
       "      <td>0.000000</td>\n",
       "      <td>11.764706</td>\n",
       "      <td>2.500000</td>\n",
       "      <td>0.000000</td>\n",
       "      <td>0</td>\n",
       "      <td>0</td>\n",
       "      <td>1</td>\n",
       "      <td>0</td>\n",
       "      <td>4</td>\n",
       "    </tr>\n",
       "  </tbody>\n",
       "</table>\n",
       "<p>5 rows × 21 columns</p>\n",
       "</div>"
      ],
      "text/plain": [
       "  result decision  ageDiff  weightDiff  heightDiff  reachDiff  total_bouts_A  \\\n",
       "0   draw       SD      8.0         0.0         4.0       -1.0             37   \n",
       "1  win_A       UD     -5.0         0.0       -10.0       -6.0             49   \n",
       "2  win_A       KO     -4.0         0.0         1.0       -1.0             47   \n",
       "3  win_A       SD     -8.0         0.0         0.0       -9.0             44   \n",
       "4  win_A      TKO     -6.0         1.0        -2.0        4.0             40   \n",
       "\n",
       "   total_bouts_B  KoPercent_A  KoPercent_B      ...       WinPercent_B  \\\n",
       "0             50    89.189189    68.000000      ...          98.000000   \n",
       "1             52    69.387755    61.538462      ...          96.153846   \n",
       "2             34    68.085106    55.882353      ...          91.176471   \n",
       "3             20    70.454545    60.000000      ...          95.000000   \n",
       "4             34    72.500000    52.941176      ...          88.235294   \n",
       "\n",
       "   LossPercent_A  LossPercent_B  DrawPercent_A  DrawPercent_B  result_map  \\\n",
       "0       0.000000       2.000000       0.000000       2.000000           2   \n",
       "1       2.040816       3.846154       2.040816       1.923077           0   \n",
       "2       2.127660       8.823529       2.127660       0.000000           0   \n",
       "3       2.272727       5.000000       2.272727      10.000000           0   \n",
       "4       0.000000      11.764706       2.500000       0.000000           0   \n",
       "\n",
       "   result_draw  result_win_A  result_win_B  decision_map  \n",
       "0            1             0             0             3  \n",
       "1            0             1             0             5  \n",
       "2            0             1             0             0  \n",
       "3            0             1             0             3  \n",
       "4            0             1             0             4  \n",
       "\n",
       "[5 rows x 21 columns]"
      ]
     },
     "execution_count": 596,
     "metadata": {},
     "output_type": "execute_result"
    }
   ],
   "source": [
    "boxing_res.head()"
   ]
  },
  {
   "cell_type": "code",
   "execution_count": 597,
   "metadata": {},
   "outputs": [],
   "source": [
    "boxing_res = boxing_res.drop(columns=['result', 'result_map'])"
   ]
  },
  {
   "cell_type": "code",
   "execution_count": 598,
   "metadata": {},
   "outputs": [],
   "source": [
    "dec_feats = ['ageDiff', 'weightDiff', 'heightDiff', 'reachDiff', 'total_bouts_A', 'total_bouts_B', \n",
    "             'KoPercent_A', 'KoPercent_B', 'WinPercent_A', 'WinPercent_B', 'DrawPercent_A', 'DrawPercent_B', \n",
    "             'result_draw', 'result_win_A', 'result_win_B']\n",
    "#continuing to exclude loss% because of redundancy, win % tells us enough"
   ]
  },
  {
   "cell_type": "code",
   "execution_count": 599,
   "metadata": {},
   "outputs": [],
   "source": [
    "mlr = LogisticRegression(C=150, solver='newton-cg', multi_class='multinomial')\n",
    "decX = boxing_res[dec_feats]\n",
    "decy = boxing_res.decision_map\n",
    "decX_train, decX_test, decy_train, decy_test = model_selection.train_test_split(decX, decy, random_state=99)"
   ]
  },
  {
   "cell_type": "code",
   "execution_count": 600,
   "metadata": {},
   "outputs": [
    {
     "name": "stderr",
     "output_type": "stream",
     "text": [
      "/anaconda3/lib/python3.6/site-packages/sklearn/utils/optimize.py:203: ConvergenceWarning: newton-cg failed to converge. Increase the number of iterations.\n",
      "  \"number of iterations.\", ConvergenceWarning)\n"
     ]
    }
   ],
   "source": [
    "decision_logreg = logreg.fit(decX_train, decy_train)"
   ]
  },
  {
   "cell_type": "code",
   "execution_count": 601,
   "metadata": {},
   "outputs": [
    {
     "data": {
      "text/plain": [
       "0.43467790487658037"
      ]
     },
     "execution_count": 601,
     "metadata": {},
     "output_type": "execute_result"
    }
   ],
   "source": [
    "#determine accuracy on the test set\n",
    "decision_logreg.score(decX_test, decy_test)"
   ]
  },
  {
   "cell_type": "markdown",
   "metadata": {},
   "source": [
    "## Now an attempt at predicting decison without using result as a variable \n",
    "## Began to think that if i'm trying to predict the result and decision of a fight, I won't already have the data on who has won, so with that being said it doesn't really make sense for me to include result as a variable, so we'll try without it now \n",
    "## nores = not icluding result "
   ]
  },
  {
   "cell_type": "code",
   "execution_count": null,
   "metadata": {},
   "outputs": [],
   "source": [
    "dec_feats_nores = ['ageDiff', 'weightDiff', 'heightDiff', 'reachDiff', 'total_bouts_A', 'total_bouts_B',\n",
    "         'KoPercent_A', 'KoPercent_B', 'WinPercent_A', 'WinPercent_B', 'DrawPercent_A', 'DrawPercent_B']"
   ]
  },
  {
   "cell_type": "code",
   "execution_count": 603,
   "metadata": {},
   "outputs": [],
   "source": [
    "nores_decX = boxing_res[dec_feats_nores]\n",
    "nores_decy = boxing_res.decision_map\n",
    "nores_decX_train, nores_decX_test, nores_decy_train, nores_decy_test = model_selection.train_test_split(nores_decX, nores_decy, random_state=99)"
   ]
  },
  {
   "cell_type": "code",
   "execution_count": 604,
   "metadata": {},
   "outputs": [],
   "source": [
    "decision_logreg_nores = logreg.fit(nores_decX_train, nores_decy_train)"
   ]
  },
  {
   "cell_type": "markdown",
   "metadata": {},
   "source": [
    "## Appears the the model accuracy is worse when result is not included "
   ]
  },
  {
   "cell_type": "code",
   "execution_count": 605,
   "metadata": {},
   "outputs": [
    {
     "data": {
      "text/plain": [
       "0.4214328717639976"
      ]
     },
     "execution_count": 605,
     "metadata": {},
     "output_type": "execute_result"
    }
   ],
   "source": [
    "decision_logreg_nores.score(nores_decX_test, nores_decy_test)"
   ]
  },
  {
   "cell_type": "markdown",
   "metadata": {},
   "source": [
    "## Now attempt at a KNN for predicting bout decision\n",
    "## Lets include result in our model from here on out to yield our highest model accuracy!"
   ]
  },
  {
   "cell_type": "code",
   "execution_count": 606,
   "metadata": {},
   "outputs": [],
   "source": [
    "dec_knnX = boxing_res[dec_feats]\n",
    "dec_knny = boxing_res.decision_map\n",
    "\n",
    "dec_knnX_train, dec_knnX_test, dec_knny_train, dec_knny_test = model_selection.train_test_split(dec_knnX, dec_knny, random_state=99)"
   ]
  },
  {
   "cell_type": "code",
   "execution_count": 607,
   "metadata": {},
   "outputs": [
    {
     "data": {
      "text/plain": [
       "KNeighborsClassifier(algorithm='auto', leaf_size=30, metric='minkowski',\n",
       "           metric_params=None, n_jobs=1, n_neighbors=5, p=2,\n",
       "           weights='uniform')"
      ]
     },
     "execution_count": 607,
     "metadata": {},
     "output_type": "execute_result"
    }
   ],
   "source": [
    "knn = KNeighborsClassifier(n_neighbors = 5)\n",
    "knn.fit(dec_knnX_train, dec_knny_train)"
   ]
  },
  {
   "cell_type": "code",
   "execution_count": 608,
   "metadata": {},
   "outputs": [],
   "source": [
    "dec_knny_pred_class = knn.predict(dec_knnX_test)"
   ]
  },
  {
   "cell_type": "code",
   "execution_count": 609,
   "metadata": {},
   "outputs": [
    {
     "name": "stdout",
     "output_type": "stream",
     "text": [
      "0.3329319686935581\n"
     ]
    }
   ],
   "source": [
    "# resulting accuracy score is quite a bit lower than mutinomial logistic regression attempt\n",
    "print((metrics.accuracy_score(dec_knny_test, dec_knny_pred_class)))"
   ]
  },
  {
   "cell_type": "markdown",
   "metadata": {},
   "source": [
    "## This could be the result of not scaling however, below checks if scaling the data makes a difference in model accuracy"
   ]
  },
  {
   "cell_type": "code",
   "execution_count": 610,
   "metadata": {},
   "outputs": [],
   "source": [
    "scaler = StandardScaler()\n",
    "scaler.fit(dec_knnX_train)\n",
    "dec_scX_train = scaler.transform(dec_knnX_train)\n",
    "dec_scX_test = scaler.transform(dec_knnX_test)"
   ]
  },
  {
   "cell_type": "code",
   "execution_count": 611,
   "metadata": {},
   "outputs": [
    {
     "name": "stdout",
     "output_type": "stream",
     "text": [
      "0.2986152919927754\n"
     ]
    }
   ],
   "source": [
    "knn.fit(dec_scX_train, dec_knny_train)\n",
    "\n",
    "dec_scy_pred_class = knn.predict(dec_knnX_test)\n",
    "print(metrics.accuracy_score(dec_knny_test, dec_scy_pred_class))"
   ]
  },
  {
   "cell_type": "markdown",
   "metadata": {},
   "source": [
    "## Scaling seems to make the model quite a bit worse, lets maximize number of folds for the non-scaled data and see what the best accuracy score we could get will be "
   ]
  },
  {
   "cell_type": "code",
   "execution_count": 623,
   "metadata": {},
   "outputs": [],
   "source": [
    "dec_scores = []\n",
    "for k in range(1,101):\n",
    "    knn = KNeighborsClassifier(n_neighbors=k)\n",
    "    knn.fit(dec_knnX_train,dec_knny_train)\n",
    "    dec_score = knn.score(dec_knnX_test, dec_knny_test)\n",
    "    dec_scores.append([k, dec_score])"
   ]
  },
  {
   "cell_type": "code",
   "execution_count": 624,
   "metadata": {},
   "outputs": [
    {
     "data": {
      "image/png": "[encoded data removed]",
      "text/plain": [
       "<Figure size 432x288 with 1 Axes>"
      ]
     },
     "metadata": {},
     "output_type": "display_data"
    }
   ],
   "source": [
    "dec_foldplot = pd.DataFrame(dec_scores,columns=['k','dec_score'])\n",
    "dec_foldplot.plot.line(x='k',y='dec_score');"
   ]
  },
  {
   "cell_type": "code",
   "execution_count": 625,
   "metadata": {},
   "outputs": [
    {
     "data": {
      "text/html": [
       "<div>\n",
       "<style scoped>\n",
       "    .dataframe tbody tr th:only-of-type {\n",
       "        vertical-align: middle;\n",
       "    }\n",
       "\n",
       "    .dataframe tbody tr th {\n",
       "        vertical-align: top;\n",
       "    }\n",
       "\n",
       "    .dataframe thead th {\n",
       "        text-align: right;\n",
       "    }\n",
       "</style>\n",
       "<table border=\"1\" class=\"dataframe\">\n",
       "  <thead>\n",
       "    <tr style=\"text-align: right;\">\n",
       "      <th></th>\n",
       "      <th>k</th>\n",
       "      <th>dec_score</th>\n",
       "    </tr>\n",
       "  </thead>\n",
       "  <tbody>\n",
       "    <tr>\n",
       "      <th>54</th>\n",
       "      <td>55</td>\n",
       "      <td>0.420831</td>\n",
       "    </tr>\n",
       "    <tr>\n",
       "      <th>75</th>\n",
       "      <td>76</td>\n",
       "      <td>0.420229</td>\n",
       "    </tr>\n",
       "    <tr>\n",
       "      <th>71</th>\n",
       "      <td>72</td>\n",
       "      <td>0.419025</td>\n",
       "    </tr>\n",
       "    <tr>\n",
       "      <th>55</th>\n",
       "      <td>56</td>\n",
       "      <td>0.416616</td>\n",
       "    </tr>\n",
       "    <tr>\n",
       "      <th>66</th>\n",
       "      <td>67</td>\n",
       "      <td>0.416616</td>\n",
       "    </tr>\n",
       "  </tbody>\n",
       "</table>\n",
       "</div>"
      ],
      "text/plain": [
       "     k  dec_score\n",
       "54  55   0.420831\n",
       "75  76   0.420229\n",
       "71  72   0.419025\n",
       "55  56   0.416616\n",
       "66  67   0.416616"
      ]
     },
     "execution_count": 625,
     "metadata": {},
     "output_type": "execute_result"
    }
   ],
   "source": [
    "dec_foldplot.sort_values('dec_score', ascending=False).head()"
   ]
  },
  {
   "cell_type": "markdown",
   "metadata": {},
   "source": [
    "## 55 folds leads to higher model accuracy than folds = 5, however multinomial logistic regression still results in the highest model accuracy \n",
    "## Now last attempt at a random forest INCLUDING RESULT"
   ]
  },
  {
   "cell_type": "code",
   "execution_count": 628,
   "metadata": {},
   "outputs": [],
   "source": [
    "#train test split on boxing_res data\n",
    "dec_rfX = boxing_res[dec_feats]\n",
    "dec_rfy = boxing_res.decision_map\n",
    "\n",
    "dec_rfX_train, dec_rfX_test, dec_rfy_train, dec_rfy_test = model_selection.train_test_split(dec_rfX, dec_rfy, random_state=99)"
   ]
  },
  {
   "cell_type": "code",
   "execution_count": 629,
   "metadata": {},
   "outputs": [
    {
     "name": "stdout",
     "output_type": "stream",
     "text": [
      "rf acc: 0.4509331727874774\n"
     ]
    }
   ],
   "source": [
    "\n",
    "rf.fit(dec_rfX_train, dec_rfy_train)\n",
    "dec_rf_yhat = rf.predict(dec_rfX_test)\n",
    "print('rf acc:', metrics.accuracy_score(dec_rfy_test, dec_rf_yhat))"
   ]
  },
  {
   "cell_type": "markdown",
   "metadata": {},
   "source": [
    "## It appears that random forest also gives me my highest model accuracy for predicting decision as well \n",
    "## Lets maximize this model similar to how we did earlier "
   ]
  },
  {
   "cell_type": "code",
   "execution_count": 630,
   "metadata": {},
   "outputs": [],
   "source": [
    "dec_rf_scores = []\n",
    "for n_feats in range(1,13):\n",
    "    rfc = RandomForestClassifier(max_features=n_feats)\n",
    "    rfc.fit(dec_rfX_train,dec_rfy_train)\n",
    "    dec_rf_score = rfc.score(dec_rfX_test, dec_rfy_test)\n",
    "    dec_rf_scores.append([n_feats, dec_rf_score])\n",
    "    \n",
    "dec_rf_scres = []\n",
    "for n_ests in range(1, 100):\n",
    "    rfc = RandomForestClassifier(n_estimators=n_ests)\n",
    "    rfc.fit(dec_rfX_train,dec_rfy_train)\n",
    "    dec_rf_scre = rfc.score(dec_rfX_test, dec_rfy_test)\n",
    "    dec_rf_scres.append([n_ests, dec_rf_scre])"
   ]
  },
  {
   "cell_type": "code",
   "execution_count": 631,
   "metadata": {},
   "outputs": [],
   "source": [
    "featsplot2 = pd.DataFrame(dec_rf_scores,columns=['n_feats','dec_rf_score'])\n",
    "estsplot2 = pd.DataFrame(dec_rf_scres,columns=['n_ests','dec_rf_scre'])"
   ]
  },
  {
   "cell_type": "code",
   "execution_count": 632,
   "metadata": {},
   "outputs": [
    {
     "name": "stdout",
     "output_type": "stream",
     "text": [
      "    n_feats  dec_rf_score\n",
      "3         4      0.467188\n",
      "9        10      0.465984\n",
      "5         6      0.461770\n",
      "11       12      0.461168\n",
      "2         3      0.455148\n",
      "0         1      0.454545\n",
      "1         2      0.452137\n",
      "8         9      0.451535\n",
      "10       11      0.450933\n",
      "6         7      0.449127\n",
      "4         5      0.442505\n",
      "7         8      0.441300\n",
      "0.4544451133855108\n",
      "    n_ests  dec_rf_scre\n",
      "37      38     0.512944\n",
      "31      32     0.511740\n",
      "86      87     0.510536\n",
      "71      72     0.509934\n",
      "96      97     0.505719\n",
      "58      59     0.505719\n",
      "52      53     0.505117\n",
      "83      84     0.505117\n",
      "43      44     0.503311\n",
      "88      89     0.503311\n"
     ]
    }
   ],
   "source": [
    "print(featsplot2.sort_values('dec_rf_score', ascending=False))\n",
    "print(featsplot2.dec_rf_score.mean())\n",
    "print(estsplot2.sort_values('dec_rf_scre', ascending=False).head(10))"
   ]
  },
  {
   "cell_type": "code",
   "execution_count": 633,
   "metadata": {},
   "outputs": [],
   "source": [
    "# final maximization of decision rf model now that we know the best values for estimators\n",
    "dec_rf_scores_final = []\n",
    "for n_feats in range(1,13):\n",
    "    rfc = RandomForestClassifier(max_features=n_feats, n_estimators=38)\n",
    "    rfc.fit(dec_rfX_train,dec_rfy_train)\n",
    "    dec_rf_score_final = rfc.score(dec_rfX_test, dec_rfy_test)\n",
    "    dec_rf_scores_final.append([n_feats, dec_rf_score_final])"
   ]
  },
  {
   "cell_type": "code",
   "execution_count": 634,
   "metadata": {},
   "outputs": [
    {
     "name": "stdout",
     "output_type": "stream",
     "text": [
      "    n_feats  dec_rf_score_final\n",
      "1         2            0.506321\n",
      "2         3            0.500301\n",
      "3         4            0.497291\n",
      "6         7            0.494281\n",
      "5         6            0.491872\n",
      "4         5            0.488862\n",
      "0         1            0.487056\n",
      "11       12            0.486454\n",
      "7         8            0.479831\n",
      "9        10            0.478025\n",
      "10       11            0.473811\n",
      "8         9            0.471403\n"
     ]
    }
   ],
   "source": [
    "dec_final_rfscores = pd.DataFrame(dec_rf_scores_final,columns=['n_feats','dec_rf_score_final'])\n",
    "print(dec_final_rfscores.sort_values('dec_rf_score_final', ascending=False))"
   ]
  },
  {
   "cell_type": "markdown",
   "metadata": {},
   "source": [
    "## With 2 features and 38 estimators our final model accuracy for predicting decision is 50.63%!"
   ]
  },
  {
   "cell_type": "code",
   "execution_count": null,
   "metadata": {},
   "outputs": [],
   "source": []
  }
 ],
 "metadata": {
  "kernelspec": {
   "display_name": "Python 3",
   "language": "python",
   "name": "python3"
  },
  "language_info": {
   "codemirror_mode": {
    "name": "ipython",
    "version": 3
   },
   "file_extension": ".py",
   "mimetype": "text/x-python",
   "name": "python",
   "nbconvert_exporter": "python",
   "pygments_lexer": "ipython3",
   "version": "3.6.5"
  }
 },
 "nbformat": 4,
 "nbformat_minor": 2
}
