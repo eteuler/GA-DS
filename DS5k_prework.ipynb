{
 "cells": [
  {
   "cell_type": "code",
   "execution_count": 1,
   "metadata": {},
   "outputs": [
    {
     "name": "stdout",
     "output_type": "stream",
     "text": [
      "15\n"
     ]
    }
   ],
   "source": [
    "result = str(1) + str(2)\n",
    "print(int(result) + 3)"
   ]
  },
  {
   "cell_type": "code",
   "execution_count": 2,
   "metadata": {},
   "outputs": [
    {
     "ename": "TypeError",
     "evalue": "'set' object does not support indexing",
     "output_type": "error",
     "traceback": [
      "\u001b[0;31m---------------------------------------------------------------------------\u001b[0m",
      "\u001b[0;31mTypeError\u001b[0m                                 Traceback (most recent call last)",
      "\u001b[0;32m<ipython-input-2-faf08de27eb6>\u001b[0m in \u001b[0;36m<module>\u001b[0;34m()\u001b[0m\n\u001b[0;32m----> 1\u001b[0;31m \u001b[0mset\u001b[0m\u001b[0;34m(\u001b[0m\u001b[0;34m[\u001b[0m\u001b[0;36m1\u001b[0m\u001b[0;34m,\u001b[0m \u001b[0;36m1\u001b[0m\u001b[0;34m,\u001b[0m \u001b[0;36m3\u001b[0m\u001b[0;34m,\u001b[0m \u001b[0;36m8\u001b[0m\u001b[0;34m,\u001b[0m \u001b[0;36m9\u001b[0m\u001b[0;34m,\u001b[0m \u001b[0;36m10\u001b[0m\u001b[0;34m]\u001b[0m\u001b[0;34m)\u001b[0m\u001b[0;34m[\u001b[0m\u001b[0;36m0\u001b[0m\u001b[0;34m]\u001b[0m\u001b[0;34m\u001b[0m\u001b[0m\n\u001b[0m",
      "\u001b[0;31mTypeError\u001b[0m: 'set' object does not support indexing"
     ]
    }
   ],
   "source": [
    "set([1, 1, 3, 8, 9, 10])[0]\n"
   ]
  },
  {
   "cell_type": "code",
   "execution_count": 3,
   "metadata": {},
   "outputs": [
    {
     "name": "stdout",
     "output_type": "stream",
     "text": [
      "13\n"
     ]
    }
   ],
   "source": [
    "summands = [3, 8, 1, 7]                       # Line 1\n",
    "\n",
    "total = 0                                                # Line 2\n",
    "while summands:                                # Line 3\n",
    "    total = total + summands.pop()    # Line 4\n",
    "    total = total - len(summands)        # Line 5\n",
    "\n",
    "print(total)         "
   ]
  },
  {
   "cell_type": "code",
   "execution_count": 4,
   "metadata": {},
   "outputs": [],
   "source": [
    "s = 'The squirrel took a nut from a hole in the ground.'\n",
    "x = 0\n",
    "\n",
    "for c in s:\n",
    "    if c == 'a':\n",
    "        x += 1"
   ]
  },
  {
   "cell_type": "code",
   "execution_count": 5,
   "metadata": {},
   "outputs": [
    {
     "name": "stdout",
     "output_type": "stream",
     "text": [
      "data scientist\n"
     ]
    }
   ],
   "source": [
    "jobs = ['CEO', 'data scientist', 'instructor'] # Line 1\n",
    "\n",
    "if jobs:                    # Line 2\n",
    "    if 'Pilot' in jobs:     # Line 3\n",
    "        print(jobs[0])      # Line 4\n",
    "    else:                   # Line 5\n",
    "        print(jobs[1])      # Line 6\n",
    "else:                       # Line 7\n",
    "    print(jobs[2])          # Line 8"
   ]
  },
  {
   "cell_type": "code",
   "execution_count": 6,
   "metadata": {},
   "outputs": [],
   "source": [
    "x = 1\n",
    "\n",
    "while x < 1000:\n",
    "    x = x * 2"
   ]
  },
  {
   "cell_type": "code",
   "execution_count": 7,
   "metadata": {},
   "outputs": [
    {
     "name": "stdout",
     "output_type": "stream",
     "text": [
      "<class 'float'>\n"
     ]
    }
   ],
   "source": [
    "def cool_function(an_arg):\n",
    "    if isinstance(an_arg, str):\n",
    "        return 'string'\n",
    "    elif isinstance(an_arg, int):\n",
    "        return 100\n",
    "\n",
    "    return type(an_arg)\n",
    "\n",
    "    if isinstance(an_arg, float): \n",
    "        return str(an_arg)\n",
    "    else:\n",
    "        return None \n",
    "    \n",
    "print(cool_function(12.3))"
   ]
  },
  {
   "cell_type": "code",
   "execution_count": 8,
   "metadata": {},
   "outputs": [],
   "source": [
    "#true or false if leap year or not\n",
    "\n",
    "def is_leap(n):\n",
    "    if n % 400 == 0:\n",
    "        return True\n",
    "    elif n % 100 == 0:\n",
    "        return False\n",
    "    elif n % 4 == 0:\n",
    "        return True\n",
    "    else:\n",
    "        return False"
   ]
  },
  {
   "cell_type": "code",
   "execution_count": 9,
   "metadata": {},
   "outputs": [],
   "source": [
    "def calc_default_add(x, y, op=\"add\"):\n",
    "    if op == 'add':\n",
    "        return x + y\n",
    "    elif op == 'sub':\n",
    "        return x - y\n",
    "    else:\n",
    "        print('Valid operations: add, sub')"
   ]
  },
  {
   "cell_type": "code",
   "execution_count": 11,
   "metadata": {},
   "outputs": [
    {
     "name": "stdout",
     "output_type": "stream",
     "text": [
      "1000\n"
     ]
    }
   ],
   "source": [
    "#function as an argument in anotehr function \n",
    "def first_function(value):\n",
    "    return value * 100\n",
    "\n",
    "def my_function(another_function):\n",
    "    return another_function(10)\n",
    "\n",
    "val = my_function(first_function)\n",
    "print(val)"
   ]
  },
  {
   "cell_type": "code",
   "execution_count": 12,
   "metadata": {},
   "outputs": [
    {
     "name": "stdout",
     "output_type": "stream",
     "text": [
      "band: Queen members: 4 albums: 15 sold: 105000000 genre: Rock\n"
     ]
    }
   ],
   "source": [
    "class Band(object):\n",
    "    def __init__(self, band, members, albums, sold, genre):\n",
    "        self.members = members\n",
    "        self.band = band\n",
    "        self.albums = albums\n",
    "        self.sold = sold\n",
    "        self.genre = genre\n",
    "\n",
    "    def print_stats(self):\n",
    "        return 'band: {} members: {} albums: {} sold: {} genre: {}'.format(self.band, self.members, self.albums, self.sold, self.genre)\n",
    "\n",
    "Queen = Band('Queen',4,15,105000000,'Rock')\n",
    "print(Queen.print_stats())"
   ]
  },
  {
   "cell_type": "code",
   "execution_count": 14,
   "metadata": {},
   "outputs": [
    {
     "name": "stdout",
     "output_type": "stream",
     "text": [
      "is possible\n"
     ]
    }
   ],
   "source": [
    "class Shape(object):\n",
    "    possible = ['triangle','square','circle','pentagon','polygon','rectangle']\n",
    "\n",
    "    def __init__(self, label='triangle'):\n",
    "        self.label = label\n",
    "\n",
    "    def is_possible(self):\n",
    "        if self.label in self.possible:\n",
    "            print('is possible')\n",
    "        else:\n",
    "            print('is impossible')\n",
    "\n",
    "square = Shape(label='square')\n",
    "wormhole = Shape(label='wormhole')\n",
    "square.possible.append('wormhole')\n",
    "wormhole.is_possible()"
   ]
  },
  {
   "cell_type": "code",
   "execution_count": 15,
   "metadata": {},
   "outputs": [
    {
     "name": "stdout",
     "output_type": "stream",
     "text": [
      "False True\n"
     ]
    }
   ],
   "source": [
    "def compare(a, b):\n",
    "    try:\n",
    "        a_greater = (a > b)\n",
    "    except:\n",
    "        a_greater = None\n",
    "        b_greater = None\n",
    "    else:\n",
    "        b_greater = (b > a)\n",
    "    finally:\n",
    "        print(a_greater, b_greater)\n",
    "        \n",
    "compare(10, 11)"
   ]
  },
  {
   "cell_type": "code",
   "execution_count": 16,
   "metadata": {},
   "outputs": [
    {
     "ename": "SyntaxError",
     "evalue": "invalid syntax (<ipython-input-16-c7a2d2cafef7>, line 1)",
     "output_type": "error",
     "traceback": [
      "\u001b[0;36m  File \u001b[0;32m\"<ipython-input-16-c7a2d2cafef7>\"\u001b[0;36m, line \u001b[0;32m1\u001b[0m\n\u001b[0;31m    for i in 1 to 10:\u001b[0m\n\u001b[0m                ^\u001b[0m\n\u001b[0;31mSyntaxError\u001b[0m\u001b[0;31m:\u001b[0m invalid syntax\n"
     ]
    }
   ],
   "source": [
    "for i in 1 to 10:\n",
    "    print(i)\n",
    "    "
   ]
  },
  {
   "cell_type": "code",
   "execution_count": 17,
   "metadata": {},
   "outputs": [
    {
     "ename": "SyntaxError",
     "evalue": "invalid syntax (<ipython-input-17-e454f04cb427>, line 4)",
     "output_type": "error",
     "traceback": [
      "\u001b[0;36m  File \u001b[0;32m\"<ipython-input-17-e454f04cb427>\"\u001b[0;36m, line \u001b[0;32m4\u001b[0m\n\u001b[0;31m    else:\u001b[0m\n\u001b[0m       ^\u001b[0m\n\u001b[0;31mSyntaxError\u001b[0m\u001b[0;31m:\u001b[0m invalid syntax\n"
     ]
    }
   ],
   "source": [
    "def divider(a, b):\n",
    "    try:\n",
    "        c = a/b\n",
    "    else:\n",
    "        print('divided:', c)\n",
    "    except:\n",
    "        print('could not divide numbers')\n",
    "divider(10, 2)\n",
    "\n",
    "#else statemnet cannot come before except"
   ]
  },
  {
   "cell_type": "code",
   "execution_count": 19,
   "metadata": {},
   "outputs": [
    {
     "name": "stdout",
     "output_type": "stream",
     "text": [
      "[1 2 3]\n",
      "<class 'numpy.ndarray'>\n"
     ]
    },
    {
     "data": {
      "text/plain": [
       "array([[0.00523885],\n",
       "       [0.73358246],\n",
       "       [0.03269195]])"
      ]
     },
     "execution_count": 19,
     "metadata": {},
     "output_type": "execute_result"
    }
   ],
   "source": [
    "import numpy as np \n",
    "\n",
    "my_array = np.array([1, 2, 3])   # Create a vector (rank 1 array) from a list\n",
    "\n",
    "print(my_array)\n",
    "\n",
    "print(type(my_array))\n",
    "\n",
    "np.random.rand(3,1)"
   ]
  },
  {
   "cell_type": "code",
   "execution_count": 20,
   "metadata": {},
   "outputs": [
    {
     "name": "stdout",
     "output_type": "stream",
     "text": [
      "[[2 1]\n",
      " [7 4]\n",
      " [5 2]\n",
      " [6 3]]\n"
     ]
    },
    {
     "data": {
      "text/plain": [
       "(4, 2)"
      ]
     },
     "execution_count": 20,
     "metadata": {},
     "output_type": "execute_result"
    }
   ],
   "source": [
    "import numpy as np\n",
    "\n",
    "my_array = np.array([[2,1],[7,4],[5,2],[6,3]])\n",
    "\n",
    "print(my_array)\n",
    "\n",
    "my_array.shape  # Return the number of rows and columns."
   ]
  },
  {
   "cell_type": "code",
   "execution_count": 21,
   "metadata": {},
   "outputs": [
    {
     "name": "stdout",
     "output_type": "stream",
     "text": [
      "mean / median: 67.95 28.0\n"
     ]
    }
   ],
   "source": [
    "#finding median and mode \n",
    "import numpy as np\n",
    "\n",
    "from scipy import stats\n",
    "\n",
    "sample = [3, 75, 98, 2, 10, 3, 14, 99, 44, 25, 31, 100, 356, 4, 23, 55, 327, 64, 6, 20]\n",
    "\n",
    "mean = np.mean(sample)\n",
    "\n",
    "median = np.median(sample)\n",
    "\n",
    "print(\"mean / median:\", mean, median)"
   ]
  },
  {
   "cell_type": "code",
   "execution_count": 22,
   "metadata": {},
   "outputs": [
    {
     "name": "stdout",
     "output_type": "stream",
     "text": [
      "mode, mount count:  [3] [2]\n"
     ]
    }
   ],
   "source": [
    "from scipy import stats\n",
    "\n",
    "sample = [3, 75, 98, 2, 10, 3, 14, 99, 44, 25, 31, 100, 356, 4, 23, 55, 327, 64, 6, 20]\n",
    "\n",
    "mode = stats.mode(sample)\n",
    "\n",
    "print(\"mode, mount count: \", mode.mode, mode.count)"
   ]
  },
  {
   "cell_type": "code",
   "execution_count": 24,
   "metadata": {},
   "outputs": [
    {
     "data": {
      "text/plain": [
       "pandas.core.frame.DataFrame"
      ]
     },
     "execution_count": 24,
     "metadata": {},
     "output_type": "execute_result"
    }
   ],
   "source": [
    "import pandas as pd\n",
    "df = pd.DataFrame({'A':['A', 'B', 'C'], 'B':[4, 5, 6]})\n",
    "\n",
    "group_df = df.groupby('A').mean()\n",
    "\n",
    "type(group_df)"
   ]
  },
  {
   "cell_type": "code",
   "execution_count": 25,
   "metadata": {},
   "outputs": [],
   "source": [
    "#importing pandas and matplotlib i think \n",
    "import pandas as pd\n",
    "import matplotlib.pyplot as plt\n",
    "% matplotlib inline"
   ]
  },
  {
   "cell_type": "code",
   "execution_count": null,
   "metadata": {},
   "outputs": [],
   "source": []
  }
 ],
 "metadata": {
  "kernelspec": {
   "display_name": "Python 3",
   "language": "python",
   "name": "python3"
  },
  "language_info": {
   "codemirror_mode": {
    "name": "ipython",
    "version": 3
   },
   "file_extension": ".py",
   "mimetype": "text/x-python",
   "name": "python",
   "nbconvert_exporter": "python",
   "pygments_lexer": "ipython3",
   "version": "3.6.5"
  }
 },
 "nbformat": 4,
 "nbformat_minor": 2
}
