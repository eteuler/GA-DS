{
 "cells": [
  {
   "cell_type": "markdown",
   "metadata": {},
   "source": [
    "<img src=\"http://imgur.com/1ZcRyrc.png\" style=\"float: left; margin: 20px; height: 55px\">\n",
    "\n",
    "# Classification and KNN with NHL data\n",
    "\n",
    "_Authors: Joseph Nelson (DC)_\n",
    "\n",
    "---\n",
    "\n",
    "Below you will practice KNN classification on a dataset of NHL statistics.\n",
    "\n",
    "You will be predicting the `Rank` of a team from predictor variables of your choice."
   ]
  },
  {
   "cell_type": "code",
   "execution_count": 1,
   "metadata": {},
   "outputs": [],
   "source": [
    "import matplotlib.pyplot as plt\n",
    "import numpy as np\n",
    "import pandas as pd\n",
    "import seaborn as sns\n",
    "\n",
    "%matplotlib inline\n",
    "%config InlineBackend.figure_format = 'retina'"
   ]
  },
  {
   "cell_type": "code",
   "execution_count": 2,
   "metadata": {},
   "outputs": [],
   "source": [
    "# web location:\n",
    "local_csv = '../data/NHL_Data_GA.csv'"
   ]
  },
  {
   "cell_type": "markdown",
   "metadata": {},
   "source": [
    "### 1. Load the NHL data"
   ]
  },
  {
   "cell_type": "code",
   "execution_count": 53,
   "metadata": {},
   "outputs": [
    {
     "name": "stdout",
     "output_type": "stream",
     "text": [
      "           Team  PTS  Rank         TOI   GF  GA  GF60  GA60   GF%    SF  ...   \\\n",
      "0  Washington10  121     1  2001:52:00  115  73  3.45  2.19  61.2  1112  ...    \n",
      "1   Vancouver11  117     1  2056:14:00   94  72  2.74  2.10  56.6  1143  ...    \n",
      "2    San Jose10  113     1  1929:54:00   90  68  2.80  2.11  57.0  1065  ...    \n",
      "3     Chicago10  112     1  2020:23:00  104  83  3.09  2.46  55.6  1186  ...    \n",
      "4   Vancouver12  111     1  2052:02:00   86  74  2.51  2.16  53.8  1078  ...    \n",
      "\n",
      "    FF%    CF    CA  CF60  CA60   CF%    Sh%    Sv%   PDO   PIM  \n",
      "0  51.3  2138  1935  64.1  58.0  52.5  10.34  93.03  1034  1269  \n",
      "1  53.1  2144  1870  62.6  54.6  53.4   8.22  93.16  1014   985  \n",
      "2  50.9  1985  1876  61.7  58.3  51.4   8.45  93.46  1019  1195  \n",
      "3  58.1  2093  1572  62.2  46.7  57.1   8.77  90.44   992   966  \n",
      "4  51.0  2085  1880  61.0  55.0  52.6   7.98  93.36  1013  1049  \n",
      "\n",
      "[5 rows x 28 columns]\n",
      "<class 'pandas.core.frame.DataFrame'>\n",
      "RangeIndex: 90 entries, 0 to 89\n",
      "Data columns (total 28 columns):\n",
      "Team    90 non-null object\n",
      "PTS     90 non-null int64\n",
      "Rank    90 non-null int64\n",
      "TOI     90 non-null object\n",
      "GF      90 non-null int64\n",
      "GA      90 non-null int64\n",
      "GF60    90 non-null float64\n",
      "GA60    90 non-null float64\n",
      "GF%     90 non-null float64\n",
      "SF      90 non-null int64\n",
      "SA      90 non-null int64\n",
      "SF60    90 non-null float64\n",
      "SA60    90 non-null float64\n",
      "SF%     90 non-null float64\n",
      "FF      90 non-null int64\n",
      "FA      90 non-null int64\n",
      "FF60    90 non-null float64\n",
      "FA60    90 non-null float64\n",
      "FF%     90 non-null float64\n",
      "CF      90 non-null int64\n",
      "CA      90 non-null int64\n",
      "CF60    90 non-null float64\n",
      "CA60    90 non-null float64\n",
      "CF%     90 non-null float64\n",
      "Sh%     90 non-null float64\n",
      "Sv%     90 non-null float64\n",
      "PDO     90 non-null int64\n",
      "PIM     90 non-null int64\n",
      "dtypes: float64(14), int64(12), object(2)\n",
      "memory usage: 19.8+ KB\n"
     ]
    }
   ],
   "source": [
    "# A:\n",
    "NHL = pd.read_csv(local_csv)\n",
    "print(NHL.head())\n",
    "NHL.info()"
   ]
  },
  {
   "cell_type": "code",
   "execution_count": 54,
   "metadata": {},
   "outputs": [
    {
     "name": "stdout",
     "output_type": "stream",
     "text": [
      "<class 'pandas.core.frame.DataFrame'>\n",
      "RangeIndex: 90 entries, 0 to 89\n",
      "Data columns (total 29 columns):\n",
      "Team    90 non-null object\n",
      "PTS     90 non-null int64\n",
      "Rank    90 non-null int64\n",
      "TOI     90 non-null object\n",
      "GF      90 non-null int64\n",
      "GA      90 non-null int64\n",
      "GF60    90 non-null float64\n",
      "GA60    90 non-null float64\n",
      "GF%     90 non-null float64\n",
      "SF      90 non-null int64\n",
      "SA      90 non-null int64\n",
      "SF60    90 non-null float64\n",
      "SA60    90 non-null float64\n",
      "SF%     90 non-null float64\n",
      "FF      90 non-null int64\n",
      "FA      90 non-null int64\n",
      "FF60    90 non-null float64\n",
      "FA60    90 non-null float64\n",
      "FF%     90 non-null float64\n",
      "CF      90 non-null int64\n",
      "CA      90 non-null int64\n",
      "CF60    90 non-null float64\n",
      "CA60    90 non-null float64\n",
      "CF%     90 non-null float64\n",
      "Sh%     90 non-null float64\n",
      "Sv%     90 non-null float64\n",
      "PDO     90 non-null int64\n",
      "PIM     90 non-null int64\n",
      "GD      90 non-null int64\n",
      "dtypes: float64(14), int64(13), object(2)\n",
      "memory usage: 20.5+ KB\n"
     ]
    }
   ],
   "source": [
    "NHL['GD'] = NHL['GF'] - NHL['GA']\n",
    "NHL.info()"
   ]
  },
  {
   "cell_type": "code",
   "execution_count": 55,
   "metadata": {},
   "outputs": [],
   "source": [
    "feature_cols = ['PTS', 'GD', 'CF', 'PDO']"
   ]
  },
  {
   "cell_type": "code",
   "execution_count": 56,
   "metadata": {},
   "outputs": [
    {
     "data": {
      "text/html": [
       "<div>\n",
       "<style scoped>\n",
       "    .dataframe tbody tr th:only-of-type {\n",
       "        vertical-align: middle;\n",
       "    }\n",
       "\n",
       "    .dataframe tbody tr th {\n",
       "        vertical-align: top;\n",
       "    }\n",
       "\n",
       "    .dataframe thead th {\n",
       "        text-align: right;\n",
       "    }\n",
       "</style>\n",
       "<table border=\"1\" class=\"dataframe\">\n",
       "  <thead>\n",
       "    <tr style=\"text-align: right;\">\n",
       "      <th></th>\n",
       "      <th>PTS</th>\n",
       "      <th>GD</th>\n",
       "      <th>CF</th>\n",
       "      <th>PDO</th>\n",
       "    </tr>\n",
       "  </thead>\n",
       "  <tbody>\n",
       "    <tr>\n",
       "      <th>0</th>\n",
       "      <td>121</td>\n",
       "      <td>42</td>\n",
       "      <td>2138</td>\n",
       "      <td>1034</td>\n",
       "    </tr>\n",
       "    <tr>\n",
       "      <th>1</th>\n",
       "      <td>117</td>\n",
       "      <td>22</td>\n",
       "      <td>2144</td>\n",
       "      <td>1014</td>\n",
       "    </tr>\n",
       "    <tr>\n",
       "      <th>2</th>\n",
       "      <td>113</td>\n",
       "      <td>22</td>\n",
       "      <td>1985</td>\n",
       "      <td>1019</td>\n",
       "    </tr>\n",
       "    <tr>\n",
       "      <th>3</th>\n",
       "      <td>112</td>\n",
       "      <td>21</td>\n",
       "      <td>2093</td>\n",
       "      <td>992</td>\n",
       "    </tr>\n",
       "    <tr>\n",
       "      <th>4</th>\n",
       "      <td>111</td>\n",
       "      <td>12</td>\n",
       "      <td>2085</td>\n",
       "      <td>1013</td>\n",
       "    </tr>\n",
       "  </tbody>\n",
       "</table>\n",
       "</div>"
      ],
      "text/plain": [
       "   PTS  GD    CF   PDO\n",
       "0  121  42  2138  1034\n",
       "1  117  22  2144  1014\n",
       "2  113  22  1985  1019\n",
       "3  112  21  2093   992\n",
       "4  111  12  2085  1013"
      ]
     },
     "execution_count": 56,
     "metadata": {},
     "output_type": "execute_result"
    }
   ],
   "source": [
    "X = NHL[feature_cols]\n",
    "y = NHL.Rank\n",
    "\n",
    "X.head()"
   ]
  },
  {
   "cell_type": "code",
   "execution_count": 71,
   "metadata": {},
   "outputs": [
    {
     "data": {
      "text/html": [
       "<div>\n",
       "<style scoped>\n",
       "    .dataframe tbody tr th:only-of-type {\n",
       "        vertical-align: middle;\n",
       "    }\n",
       "\n",
       "    .dataframe tbody tr th {\n",
       "        vertical-align: top;\n",
       "    }\n",
       "\n",
       "    .dataframe thead th {\n",
       "        text-align: right;\n",
       "    }\n",
       "</style>\n",
       "<table border=\"1\" class=\"dataframe\">\n",
       "  <thead>\n",
       "    <tr style=\"text-align: right;\">\n",
       "      <th></th>\n",
       "      <th>0</th>\n",
       "      <th>1</th>\n",
       "      <th>2</th>\n",
       "      <th>3</th>\n",
       "    </tr>\n",
       "  </thead>\n",
       "  <tbody>\n",
       "    <tr>\n",
       "      <th>count</th>\n",
       "      <td>4.500000e+01</td>\n",
       "      <td>4.500000e+01</td>\n",
       "      <td>4.500000e+01</td>\n",
       "      <td>4.500000e+01</td>\n",
       "    </tr>\n",
       "    <tr>\n",
       "      <th>mean</th>\n",
       "      <td>4.366877e-16</td>\n",
       "      <td>-4.934325e-18</td>\n",
       "      <td>-3.947460e-17</td>\n",
       "      <td>3.847540e-15</td>\n",
       "    </tr>\n",
       "    <tr>\n",
       "      <th>std</th>\n",
       "      <td>1.011300e+00</td>\n",
       "      <td>1.011300e+00</td>\n",
       "      <td>1.011300e+00</td>\n",
       "      <td>1.011300e+00</td>\n",
       "    </tr>\n",
       "    <tr>\n",
       "      <th>min</th>\n",
       "      <td>-2.328899e+00</td>\n",
       "      <td>-2.341539e+00</td>\n",
       "      <td>-2.102669e+00</td>\n",
       "      <td>-1.756639e+00</td>\n",
       "    </tr>\n",
       "    <tr>\n",
       "      <th>25%</th>\n",
       "      <td>-8.828507e-01</td>\n",
       "      <td>-7.810156e-01</td>\n",
       "      <td>-6.405482e-01</td>\n",
       "      <td>-7.431933e-01</td>\n",
       "    </tr>\n",
       "    <tr>\n",
       "      <th>50%</th>\n",
       "      <td>2.587666e-01</td>\n",
       "      <td>-3.467830e-02</td>\n",
       "      <td>-3.735965e-03</td>\n",
       "      <td>-6.756303e-02</td>\n",
       "    </tr>\n",
       "    <tr>\n",
       "      <th>75%</th>\n",
       "      <td>7.154135e-01</td>\n",
       "      <td>8.473567e-01</td>\n",
       "      <td>7.451552e-01</td>\n",
       "      <td>6.925210e-01</td>\n",
       "    </tr>\n",
       "    <tr>\n",
       "      <th>max</th>\n",
       "      <td>1.857031e+00</td>\n",
       "      <td>2.272182e+00</td>\n",
       "      <td>1.850661e+00</td>\n",
       "      <td>2.128235e+00</td>\n",
       "    </tr>\n",
       "  </tbody>\n",
       "</table>\n",
       "</div>"
      ],
      "text/plain": [
       "                  0             1             2             3\n",
       "count  4.500000e+01  4.500000e+01  4.500000e+01  4.500000e+01\n",
       "mean   4.366877e-16 -4.934325e-18 -3.947460e-17  3.847540e-15\n",
       "std    1.011300e+00  1.011300e+00  1.011300e+00  1.011300e+00\n",
       "min   -2.328899e+00 -2.341539e+00 -2.102669e+00 -1.756639e+00\n",
       "25%   -8.828507e-01 -7.810156e-01 -6.405482e-01 -7.431933e-01\n",
       "50%    2.587666e-01 -3.467830e-02 -3.735965e-03 -6.756303e-02\n",
       "75%    7.154135e-01  8.473567e-01  7.451552e-01  6.925210e-01\n",
       "max    1.857031e+00  2.272182e+00  1.850661e+00  2.128235e+00"
      ]
     },
     "execution_count": 71,
     "metadata": {},
     "output_type": "execute_result"
    }
   ],
   "source": [
    "from sklearn.preprocessing import StandardScaler\n",
    "\n",
    "scaler = StandardScaler()\n",
    "scaler.fit(X_train)\n",
    "X_train = scaler.transform(X_train)\n",
    "# X_train = scaler.fit_transform(X_train)\n",
    "X_test = scaler.transform(X_test)\n",
    "\n",
    "pd.DataFrame(X_train).describe()"
   ]
  },
  {
   "cell_type": "code",
   "execution_count": 79,
   "metadata": {},
   "outputs": [],
   "source": [
    "from sklearn.neighbors import KNeighborsClassifier\n",
    "from sklearn.model_selection import train_test_split\n",
    "from sklearn import metrics\n",
    "\n",
    "X_train, X_test, y_train, y_test = train_test_split(X, y, test_size=.3)"
   ]
  },
  {
   "cell_type": "code",
   "execution_count": 80,
   "metadata": {},
   "outputs": [
    {
     "data": {
      "text/plain": [
       "0.25925925925925924"
      ]
     },
     "execution_count": 80,
     "metadata": {},
     "output_type": "execute_result"
    }
   ],
   "source": [
    "most_freq_class = y_train.value_counts().index[0]\n",
    "y_test.value_counts()[most_freq_class] / len(y_test)"
   ]
  },
  {
   "cell_type": "code",
   "execution_count": 81,
   "metadata": {},
   "outputs": [],
   "source": [
    "scores = []\n",
    "for k in range(1,45):\n",
    "    knn = KNeighborsClassifier(n_neighbors=k)\n",
    "    knn.fit(X_train,y_train)\n",
    "    score = knn.score(X_test, y_test)\n",
    "    scores.append([k, score])"
   ]
  },
  {
   "cell_type": "code",
   "execution_count": 82,
   "metadata": {},
   "outputs": [
    {
     "data": {
      "image/png": "[encoded data removed]",
      "text/plain": [
       "<Figure size 432x288 with 1 Axes>"
      ]
     },
     "metadata": {
      "image/png": {
       "height": 263,
       "width": 380
      }
     },
     "output_type": "display_data"
    }
   ],
   "source": [
    "data = pd.DataFrame(scores,columns=['k','score'])\n",
    "data.plot.line(x='k',y='score');"
   ]
  },
  {
   "cell_type": "code",
   "execution_count": 78,
   "metadata": {},
   "outputs": [
    {
     "data": {
      "text/html": [
       "<div>\n",
       "<style scoped>\n",
       "    .dataframe tbody tr th:only-of-type {\n",
       "        vertical-align: middle;\n",
       "    }\n",
       "\n",
       "    .dataframe tbody tr th {\n",
       "        vertical-align: top;\n",
       "    }\n",
       "\n",
       "    .dataframe thead th {\n",
       "        text-align: right;\n",
       "    }\n",
       "</style>\n",
       "<table border=\"1\" class=\"dataframe\">\n",
       "  <thead>\n",
       "    <tr style=\"text-align: right;\">\n",
       "      <th></th>\n",
       "      <th>k</th>\n",
       "      <th>score</th>\n",
       "    </tr>\n",
       "  </thead>\n",
       "  <tbody>\n",
       "    <tr>\n",
       "      <th>23</th>\n",
       "      <td>24</td>\n",
       "      <td>0.555556</td>\n",
       "    </tr>\n",
       "    <tr>\n",
       "      <th>15</th>\n",
       "      <td>16</td>\n",
       "      <td>0.555556</td>\n",
       "    </tr>\n",
       "    <tr>\n",
       "      <th>22</th>\n",
       "      <td>23</td>\n",
       "      <td>0.533333</td>\n",
       "    </tr>\n",
       "    <tr>\n",
       "      <th>9</th>\n",
       "      <td>10</td>\n",
       "      <td>0.533333</td>\n",
       "    </tr>\n",
       "    <tr>\n",
       "      <th>20</th>\n",
       "      <td>21</td>\n",
       "      <td>0.511111</td>\n",
       "    </tr>\n",
       "    <tr>\n",
       "      <th>19</th>\n",
       "      <td>20</td>\n",
       "      <td>0.511111</td>\n",
       "    </tr>\n",
       "    <tr>\n",
       "      <th>16</th>\n",
       "      <td>17</td>\n",
       "      <td>0.511111</td>\n",
       "    </tr>\n",
       "    <tr>\n",
       "      <th>14</th>\n",
       "      <td>15</td>\n",
       "      <td>0.511111</td>\n",
       "    </tr>\n",
       "    <tr>\n",
       "      <th>0</th>\n",
       "      <td>1</td>\n",
       "      <td>0.511111</td>\n",
       "    </tr>\n",
       "    <tr>\n",
       "      <th>8</th>\n",
       "      <td>9</td>\n",
       "      <td>0.511111</td>\n",
       "    </tr>\n",
       "    <tr>\n",
       "      <th>7</th>\n",
       "      <td>8</td>\n",
       "      <td>0.511111</td>\n",
       "    </tr>\n",
       "    <tr>\n",
       "      <th>4</th>\n",
       "      <td>5</td>\n",
       "      <td>0.511111</td>\n",
       "    </tr>\n",
       "    <tr>\n",
       "      <th>2</th>\n",
       "      <td>3</td>\n",
       "      <td>0.488889</td>\n",
       "    </tr>\n",
       "    <tr>\n",
       "      <th>5</th>\n",
       "      <td>6</td>\n",
       "      <td>0.488889</td>\n",
       "    </tr>\n",
       "    <tr>\n",
       "      <th>25</th>\n",
       "      <td>26</td>\n",
       "      <td>0.488889</td>\n",
       "    </tr>\n",
       "    <tr>\n",
       "      <th>24</th>\n",
       "      <td>25</td>\n",
       "      <td>0.488889</td>\n",
       "    </tr>\n",
       "    <tr>\n",
       "      <th>21</th>\n",
       "      <td>22</td>\n",
       "      <td>0.488889</td>\n",
       "    </tr>\n",
       "    <tr>\n",
       "      <th>32</th>\n",
       "      <td>33</td>\n",
       "      <td>0.466667</td>\n",
       "    </tr>\n",
       "    <tr>\n",
       "      <th>6</th>\n",
       "      <td>7</td>\n",
       "      <td>0.466667</td>\n",
       "    </tr>\n",
       "    <tr>\n",
       "      <th>18</th>\n",
       "      <td>19</td>\n",
       "      <td>0.466667</td>\n",
       "    </tr>\n",
       "    <tr>\n",
       "      <th>34</th>\n",
       "      <td>35</td>\n",
       "      <td>0.444444</td>\n",
       "    </tr>\n",
       "    <tr>\n",
       "      <th>33</th>\n",
       "      <td>34</td>\n",
       "      <td>0.444444</td>\n",
       "    </tr>\n",
       "    <tr>\n",
       "      <th>26</th>\n",
       "      <td>27</td>\n",
       "      <td>0.444444</td>\n",
       "    </tr>\n",
       "    <tr>\n",
       "      <th>12</th>\n",
       "      <td>13</td>\n",
       "      <td>0.444444</td>\n",
       "    </tr>\n",
       "    <tr>\n",
       "      <th>13</th>\n",
       "      <td>14</td>\n",
       "      <td>0.444444</td>\n",
       "    </tr>\n",
       "    <tr>\n",
       "      <th>17</th>\n",
       "      <td>18</td>\n",
       "      <td>0.444444</td>\n",
       "    </tr>\n",
       "    <tr>\n",
       "      <th>11</th>\n",
       "      <td>12</td>\n",
       "      <td>0.444444</td>\n",
       "    </tr>\n",
       "    <tr>\n",
       "      <th>3</th>\n",
       "      <td>4</td>\n",
       "      <td>0.422222</td>\n",
       "    </tr>\n",
       "    <tr>\n",
       "      <th>1</th>\n",
       "      <td>2</td>\n",
       "      <td>0.422222</td>\n",
       "    </tr>\n",
       "    <tr>\n",
       "      <th>29</th>\n",
       "      <td>30</td>\n",
       "      <td>0.400000</td>\n",
       "    </tr>\n",
       "    <tr>\n",
       "      <th>31</th>\n",
       "      <td>32</td>\n",
       "      <td>0.400000</td>\n",
       "    </tr>\n",
       "    <tr>\n",
       "      <th>10</th>\n",
       "      <td>11</td>\n",
       "      <td>0.400000</td>\n",
       "    </tr>\n",
       "    <tr>\n",
       "      <th>28</th>\n",
       "      <td>29</td>\n",
       "      <td>0.377778</td>\n",
       "    </tr>\n",
       "    <tr>\n",
       "      <th>27</th>\n",
       "      <td>28</td>\n",
       "      <td>0.333333</td>\n",
       "    </tr>\n",
       "    <tr>\n",
       "      <th>30</th>\n",
       "      <td>31</td>\n",
       "      <td>0.288889</td>\n",
       "    </tr>\n",
       "    <tr>\n",
       "      <th>35</th>\n",
       "      <td>36</td>\n",
       "      <td>0.288889</td>\n",
       "    </tr>\n",
       "    <tr>\n",
       "      <th>36</th>\n",
       "      <td>37</td>\n",
       "      <td>0.288889</td>\n",
       "    </tr>\n",
       "    <tr>\n",
       "      <th>37</th>\n",
       "      <td>38</td>\n",
       "      <td>0.288889</td>\n",
       "    </tr>\n",
       "    <tr>\n",
       "      <th>38</th>\n",
       "      <td>39</td>\n",
       "      <td>0.288889</td>\n",
       "    </tr>\n",
       "    <tr>\n",
       "      <th>39</th>\n",
       "      <td>40</td>\n",
       "      <td>0.288889</td>\n",
       "    </tr>\n",
       "    <tr>\n",
       "      <th>40</th>\n",
       "      <td>41</td>\n",
       "      <td>0.288889</td>\n",
       "    </tr>\n",
       "    <tr>\n",
       "      <th>41</th>\n",
       "      <td>42</td>\n",
       "      <td>0.288889</td>\n",
       "    </tr>\n",
       "    <tr>\n",
       "      <th>42</th>\n",
       "      <td>43</td>\n",
       "      <td>0.288889</td>\n",
       "    </tr>\n",
       "    <tr>\n",
       "      <th>43</th>\n",
       "      <td>44</td>\n",
       "      <td>0.288889</td>\n",
       "    </tr>\n",
       "  </tbody>\n",
       "</table>\n",
       "</div>"
      ],
      "text/plain": [
       "     k     score\n",
       "23  24  0.555556\n",
       "15  16  0.555556\n",
       "22  23  0.533333\n",
       "9   10  0.533333\n",
       "20  21  0.511111\n",
       "19  20  0.511111\n",
       "16  17  0.511111\n",
       "14  15  0.511111\n",
       "0    1  0.511111\n",
       "8    9  0.511111\n",
       "7    8  0.511111\n",
       "4    5  0.511111\n",
       "2    3  0.488889\n",
       "5    6  0.488889\n",
       "25  26  0.488889\n",
       "24  25  0.488889\n",
       "21  22  0.488889\n",
       "32  33  0.466667\n",
       "6    7  0.466667\n",
       "18  19  0.466667\n",
       "34  35  0.444444\n",
       "33  34  0.444444\n",
       "26  27  0.444444\n",
       "12  13  0.444444\n",
       "13  14  0.444444\n",
       "17  18  0.444444\n",
       "11  12  0.444444\n",
       "3    4  0.422222\n",
       "1    2  0.422222\n",
       "29  30  0.400000\n",
       "31  32  0.400000\n",
       "10  11  0.400000\n",
       "28  29  0.377778\n",
       "27  28  0.333333\n",
       "30  31  0.288889\n",
       "35  36  0.288889\n",
       "36  37  0.288889\n",
       "37  38  0.288889\n",
       "38  39  0.288889\n",
       "39  40  0.288889\n",
       "40  41  0.288889\n",
       "41  42  0.288889\n",
       "42  43  0.288889\n",
       "43  44  0.288889"
      ]
     },
     "execution_count": 78,
     "metadata": {},
     "output_type": "execute_result"
    }
   ],
   "source": [
    "data.sort_values('score', ascending=False)"
   ]
  },
  {
   "cell_type": "markdown",
   "metadata": {},
   "source": [
    "### 2. Perform any required data cleaning. Do some EDA."
   ]
  },
  {
   "cell_type": "code",
   "execution_count": 4,
   "metadata": {},
   "outputs": [],
   "source": [
    "# A:"
   ]
  },
  {
   "cell_type": "markdown",
   "metadata": {},
   "source": [
    "### 3. Set up the `Rank` variable as your target. How many classes are there?"
   ]
  },
  {
   "cell_type": "code",
   "execution_count": 5,
   "metadata": {},
   "outputs": [],
   "source": [
    "# A:"
   ]
  },
  {
   "cell_type": "markdown",
   "metadata": {},
   "source": [
    "### 4. What is the baseline accuracy?"
   ]
  },
  {
   "cell_type": "code",
   "execution_count": 6,
   "metadata": {},
   "outputs": [],
   "source": [
    "# A:"
   ]
  },
  {
   "cell_type": "markdown",
   "metadata": {},
   "source": [
    "### 5. Choose 4 features to be your predictor variables and set up your design matrix."
   ]
  },
  {
   "cell_type": "code",
   "execution_count": 7,
   "metadata": {
    "collapsed": true
   },
   "outputs": [],
   "source": [
    "# A:"
   ]
  },
  {
   "cell_type": "markdown",
   "metadata": {},
   "source": [
    "### 6. Fit a `KNeighborsClassifier` with 1 neighbor using the target and predictors."
   ]
  },
  {
   "cell_type": "code",
   "execution_count": 8,
   "metadata": {},
   "outputs": [],
   "source": [
    "# A:"
   ]
  },
  {
   "cell_type": "markdown",
   "metadata": {},
   "source": [
    "### 7. Evaluate the accuracy of your model.\n",
    "- Is it better than baseline?\n",
    "- Is it legitimate?"
   ]
  },
  {
   "cell_type": "code",
   "execution_count": 9,
   "metadata": {},
   "outputs": [],
   "source": [
    "# A:"
   ]
  },
  {
   "cell_type": "markdown",
   "metadata": {},
   "source": [
    "### 8. Create a 50-50 train-test-split of your target and predictors. Refit the KNN and assess the accuracy."
   ]
  },
  {
   "cell_type": "code",
   "execution_count": 10,
   "metadata": {},
   "outputs": [],
   "source": [
    "# A:"
   ]
  },
  {
   "cell_type": "markdown",
   "metadata": {},
   "source": [
    "### 9. Evaluate the test accuracy of a KNN where K == number of rows in the training data."
   ]
  },
  {
   "cell_type": "code",
   "execution_count": 11,
   "metadata": {},
   "outputs": [],
   "source": [
    "# A:"
   ]
  },
  {
   "cell_type": "markdown",
   "metadata": {},
   "source": [
    "### 10. Fit the KNN at values of K from 1 to the number of rows in the training data.\n",
    "- Store the test accuracy in a list.\n",
    "- Plot the test accuracy vs. the number of neighbors."
   ]
  },
  {
   "cell_type": "code",
   "execution_count": 12,
   "metadata": {
    "collapsed": true
   },
   "outputs": [],
   "source": [
    "# A:"
   ]
  },
  {
   "cell_type": "markdown",
   "metadata": {},
   "source": [
    "### 11. Fit KNN across different values of K and plot the mean cross-validated accuracy with 5 folds."
   ]
  },
  {
   "cell_type": "code",
   "execution_count": 13,
   "metadata": {},
   "outputs": [],
   "source": [
    "# A:"
   ]
  },
  {
   "cell_type": "markdown",
   "metadata": {},
   "source": [
    "### 12. Standardize the predictor matrix and cross-validate across the different K.\n",
    "- Plot the standardized mean cross-validated accuracy against the unstandardized. Which is better?\n",
    "- Why?"
   ]
  },
  {
   "cell_type": "code",
   "execution_count": 14,
   "metadata": {
    "collapsed": true
   },
   "outputs": [],
   "source": [
    "# A:"
   ]
  }
 ],
 "metadata": {
  "kernelspec": {
   "display_name": "Python 3",
   "language": "python",
   "name": "python3"
  },
  "language_info": {
   "codemirror_mode": {
    "name": "ipython",
    "version": 3
   },
   "file_extension": ".py",
   "mimetype": "text/x-python",
   "name": "python",
   "nbconvert_exporter": "python",
   "pygments_lexer": "ipython3",
   "version": "3.6.5"
  }
 },
 "nbformat": 4,
 "nbformat_minor": 2
}
