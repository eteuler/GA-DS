{
 "cells": [
  {
   "cell_type": "markdown",
   "metadata": {
    "slideshow": {
     "slide_type": "slide"
    }
   },
   "source": [
    "<img src=\"http://imgur.com/1ZcRyrc.png\" style=\"float: left; margin: 20px; height: 55px\">\n",
    " \n",
    "# What is Data Science?\n",
    " \n",
    "_Instructor_: Tim Book, General Assembly DC\n",
    " \n",
    "---\n"
   ]
  },
  {
   "cell_type": "markdown",
   "metadata": {
    "slideshow": {
     "slide_type": "slide"
    }
   },
   "source": [
    "<a id=\"learning-objectives\"></a>\n",
    "## Learning Objectives\n",
    "*After this lesson, you will be able to:*\n",
    "\n",
    "- **Describe** the roles and components of a successful development environment.\n",
    "- **Define** data science and the data science workflow.\n",
    "- **Apply** the data science workflow to solve a task.\n",
    "- **Discuss** common data science terminology and processes."
   ]
  },
  {
   "cell_type": "markdown",
   "metadata": {
    "slideshow": {
     "slide_type": "slide"
    }
   },
   "source": [
    "<a id=\"ds-real-world\"> </a>\n",
    "# Activity: Data Science in the Real World\n",
    "\n",
    "- Give me five products or services that you think utilize data science.\n",
    "\n",
    "- **Examples**"
   ]
  },
  {
   "cell_type": "markdown",
   "metadata": {
    "slideshow": {
     "slide_type": "fragment"
    }
   },
   "source": [
    "- Providing movie recommendations on Netflix.\n",
    "- Making product suggestions on Amazon.\n",
    "- Offering election and sports coverage on the stats site FiveThirtyEight.\n",
    "- Calculating daily bet predictions on the fantasy sports site DraftKings.\n",
    "- Returning auto-translate and search results on Google."
   ]
  },
  {
   "cell_type": "markdown",
   "metadata": {
    "slideshow": {
     "slide_type": "slide"
    }
   },
   "source": [
    "<a id=\"question\"> </a>\n",
    "# How to Ask Good Questions\n",
    "\n",
    "### How Do Data Scientists Solve Problems?\n",
    "\n",
    "Most practitioners apply a version of the **scientific method** in order to logically deconstruct and analyze an issue. At General Assembly, we'll call this the **data science workflow**, which we've broken down into a series of steps.\n",
    "\n",
    "This problem-solving framework will help you produce results that are **reliable** (so that your findings will be more accurate) and **reproducible** (so that others can follow your steps and achieve the same results).\n",
    "\n",
    "Note that, depending on the problem, this process is not always linear. You may require lots of iteration and repetition before any conclusions can be drawn!"
   ]
  },
  {
   "cell_type": "markdown",
   "metadata": {
    "slideshow": {
     "slide_type": "slide"
    }
   },
   "source": [
    "<a id=\"good_q\"></a>\n",
    "## Asking a Good Question\n",
    "\n",
    "All data science projects are different, but they all start with a **problem**. Thus, it is important to have a **problem statement**.\n",
    "\n",
    "From this problem statement arises questions; questions we will ask the data in order to gain more information so we can attempt to find a solution to that problem.\n",
    "\n",
    "**Why do we need a good question?**\n",
    "\n",
    "_“A problem well stated is half solved.”_ — Charles Kettering\n",
    "\n",
    "A good question: "
   ]
  },
  {
   "cell_type": "markdown",
   "metadata": {
    "slideshow": {
     "slide_type": "fragment"
    }
   },
   "source": [
    "- Sets you up for success as you begin analysis."
   ]
  },
  {
   "cell_type": "markdown",
   "metadata": {
    "slideshow": {
     "slide_type": "fragment"
    }
   },
   "source": [
    "- Establishes the basis for reproducibility."
   ]
  },
  {
   "cell_type": "markdown",
   "metadata": {
    "slideshow": {
     "slide_type": "fragment"
    }
   },
   "source": [
    "- Enables collaboration through clear goals.\n",
    "    - It's hard to collaborate without a vision."
   ]
  },
  {
   "cell_type": "markdown",
   "metadata": {
    "slideshow": {
     "slide_type": "slide"
    }
   },
   "source": [
    "## Are you SMART?\n",
    "\n",
    "One way to approach formulating a question is through goal-setting via the **SMART Goals Framework**:"
   ]
  },
  {
   "cell_type": "markdown",
   "metadata": {
    "slideshow": {
     "slide_type": "fragment"
    }
   },
   "source": [
    "- **Specific**: The data set and key variables are clearly defined."
   ]
  },
  {
   "cell_type": "markdown",
   "metadata": {
    "slideshow": {
     "slide_type": "fragment"
    }
   },
   "source": [
    "- **Measurable**: The type of analysis and major assumptions are articulated."
   ]
  },
  {
   "cell_type": "markdown",
   "metadata": {
    "slideshow": {
     "slide_type": "fragment"
    }
   },
   "source": [
    "- **Attainable**: The question you are asking is feasible for your data set and not likely to be biased."
   ]
  },
  {
   "cell_type": "markdown",
   "metadata": {
    "slideshow": {
     "slide_type": "fragment"
    }
   },
   "source": [
    "- **Reproducible**: Another person (or future you) can read and understand exactly how your analysis is performed."
   ]
  },
  {
   "cell_type": "markdown",
   "metadata": {
    "slideshow": {
     "slide_type": "fragment"
    }
   },
   "source": [
    "- **Time-bound**: You clearly state the time period and population to which this analysis pertains."
   ]
  },
  {
   "cell_type": "markdown",
   "metadata": {
    "slideshow": {
     "slide_type": "slide"
    }
   },
   "source": [
    "## What Are Some Common Questions Asked in Data Science?\n",
    "\n",
    "**Machine learning more or less asks the following questions:**"
   ]
  },
  {
   "cell_type": "markdown",
   "metadata": {
    "slideshow": {
     "slide_type": "fragment"
    }
   },
   "source": [
    "- Does X predict Y? (Where X is a set of predictor variables and Y is an outcome.)"
   ]
  },
  {
   "cell_type": "markdown",
   "metadata": {
    "slideshow": {
     "slide_type": "fragment"
    }
   },
   "source": [
    "- Are there any distinct groups in our data?"
   ]
  },
  {
   "cell_type": "markdown",
   "metadata": {
    "slideshow": {
     "slide_type": "fragment"
    }
   },
   "source": [
    "- What are the key components of our data?"
   ]
  },
  {
   "cell_type": "markdown",
   "metadata": {
    "slideshow": {
     "slide_type": "fragment"
    }
   },
   "source": [
    "- Is one of our observations “weird”?"
   ]
  },
  {
   "cell_type": "markdown",
   "metadata": {
    "slideshow": {
     "slide_type": "slide"
    }
   },
   "source": [
    "## What Are Some Common Questions Asked in Data Science?\n",
    "**From a business perspective, we can ask:**"
   ]
  },
  {
   "cell_type": "markdown",
   "metadata": {
    "slideshow": {
     "slide_type": "fragment"
    }
   },
   "source": [
    "- What is the likelihood that a customer will buy this product?"
   ]
  },
  {
   "cell_type": "markdown",
   "metadata": {
    "slideshow": {
     "slide_type": "fragment"
    }
   },
   "source": [
    "- How much demand will there be for my service tomorrow?"
   ]
  },
  {
   "cell_type": "markdown",
   "metadata": {
    "slideshow": {
     "slide_type": "fragment"
    }
   },
   "source": [
    "- What groups of products are customers purchasing together?"
   ]
  },
  {
   "cell_type": "markdown",
   "metadata": {
    "slideshow": {
     "slide_type": "fragment"
    }
   },
   "source": [
    "- Can we automate this simple yes/no decision?"
   ]
  },
  {
   "cell_type": "markdown",
   "metadata": {
    "slideshow": {
     "slide_type": "slide"
    }
   },
   "source": [
    "<a id=\"dswf\"></a>\n",
    "## Introduction: The Data Science Workflow\n",
    "\n",
    "---"
   ]
  },
  {
   "cell_type": "markdown",
   "metadata": {
    "slideshow": {
     "slide_type": "fragment"
    }
   },
   "source": [
    "- **Frame**: Develop a hypothesis-driven approach to your analysis.\n",
    "- **Prepare**: Select, import, explore, and clean your data. _**(80% of your work is here!)**_\n",
    "- **Analyze**: Structure, visualize, and complete your analysis.\n",
    "- **Interpret**: Derive recommendations and business decisions from your data.\n",
    "- **Communicate**: Present (edited) insights from your data to different audiences.\n",
    "\n",
    "![](./assets/Data-Framework-White-BG.png)"
   ]
  },
  {
   "cell_type": "markdown",
   "metadata": {
    "slideshow": {
     "slide_type": "fragment"
    }
   },
   "source": [
    "#### Notes about GA's Data Workflow\n",
    "\n",
    "_Remember, these steps are not hard-set rules; instead, think of them as problem-solving guidelines._\n",
    "\n",
    "- These steps are **iterative**; it's normal to go back and repeat certain steps a few times in a row.\n",
    "- The process is **cyclical**; after completing the process, you may restart it on new findings."
   ]
  },
  {
   "cell_type": "markdown",
   "metadata": {
    "slideshow": {
     "slide_type": "slide"
    }
   },
   "source": [
    "# Application: Data Science Workflow Through Ames Data"
   ]
  },
  {
   "cell_type": "markdown",
   "metadata": {
    "slideshow": {
     "slide_type": "fragment"
    }
   },
   "source": [
    "## Frame\n",
    "---\n",
    "We work for a real estate company interested in using data science to determine the best properties to buy and resell. Specifically, your company would like to identify the characteristics of residential houses that estimate their sale price and the cost-effectiveness of doing renovations.\n",
    "\n",
    "#### What is the Business/Product Objective?"
   ]
  },
  {
   "cell_type": "markdown",
   "metadata": {
    "slideshow": {
     "slide_type": "fragment"
    }
   },
   "source": [
    "The client tells us their goals are to\n",
    "* Accurately predict house prices (so they can be sold for a larger profit).\n",
    "* What house features would be more likely to lead to a forecloser? (This could represent more profitable sales for the company)."
   ]
  },
  {
   "cell_type": "markdown",
   "metadata": {
    "slideshow": {
     "slide_type": "fragment"
    }
   },
   "source": [
    "#### Identify and Hypothesize Goals and Criteria for Success\n",
    "\n",
    "Ultimately, the customer wants us to:\n",
    "* Deliver a presentation to the real estate team.\n",
    "* Write a business report discussing results, procedures used, and rationales.\n",
    "* Build an API that provides estimated returns."
   ]
  },
  {
   "cell_type": "markdown",
   "metadata": {
    "slideshow": {
     "slide_type": "fragment"
    }
   },
   "source": [
    "#### Create a Set of Questions to Help You Identify the Correct Data Set\n",
    "\n",
    "* Can you think of questions that would help this customer deliver on their business goals? \n",
    "* What sort of features or columns would you want to see in the data?"
   ]
  },
  {
   "cell_type": "markdown",
   "metadata": {
    "slideshow": {
     "slide_type": "slide"
    }
   },
   "source": [
    "## Ideal Data vs. Available Data\n",
    "\n",
    "Oftentimes, we'll start by identifying the *ideal data* we would want for a project.\n",
    "\n",
    "_Then_, we learn about the limitations. We have a data dictionary for the Ames data [here](./extra-materials/ames_data_documentation.txt):\n",
    "\n",
    "- 20 continuous variables indicating square footage.\n",
    "- 14 discrete variables indicating number of each room type.\n",
    "- 46 categorical variables containing 2–28 classes each, e.g., street type (gravel/paved) and neighborhood (city district name).\n",
    "\n",
    "---"
   ]
  },
  {
   "cell_type": "markdown",
   "metadata": {
    "slideshow": {
     "slide_type": "fragment"
    }
   },
   "source": [
    "Do you think we can solve our problem with what we have?\n",
    "\n",
    "Sometimes, we might realize we can't answer our question with the given data.\n",
    "\n",
    "If we can't solve our problem, perhaps there is another (solvable) question we can answer? Go back to **Frame**."
   ]
  },
  {
   "cell_type": "markdown",
   "metadata": {
    "slideshow": {
     "slide_type": "slide"
    }
   },
   "source": [
    "### Data acquisition\n",
    "\n",
    "---\n",
    "\n",
    "- **What are some questions we should ask during the acquisition process?**\n",
    "\n",
    "- Our Ames data set contains the following information:\n",
    "    - [Ames Data Set Introduction PDF](./extra-materials/ames.pdf) (from the \"Journal of Statistics Education\")\n",
    "    - \"Data set contains information from the Ames Assessor’s Office used in computing assessed values for individual residential properties sold in Ames, IA from 2006 to 2010.\"\n",
    "\n",
    "### Data Quality\n",
    "\n",
    "---\n",
    "\n",
    "- **What are some questions we should ask when checking the data for quality?**\n",
    "  - [Ames Data Set Documentation](./extra-materials/ames_data_documentation.txt)"
   ]
  },
  {
   "cell_type": "markdown",
   "metadata": {
    "slideshow": {
     "slide_type": "slide"
    }
   },
   "source": [
    "##  Prepare\n",
    "\n",
    "---\n",
    "\n",
    "Often, we are given **secondary data**, or data that were collected previously. In these cases, we have to learn as much as possible about our data using tools like data dictionaries and source documentation to determine how the set was gathered.\n",
    "\n",
    "Here's an example of a data dictionary:\n",
    "\n",
    "Variable | Description | Type of Variable\n",
    "---| ---| ---\n",
    "Square Footage | Floating Point | Continuous\n",
    "Street Type | 1 - Gravel, 2 - Paved | Categorical\n",
    "Neighborhood | String, e.g., 'Tenderloin' | Categorical\n",
    "Number of Bedrooms | Integer | Discrete"
   ]
  },
  {
   "cell_type": "markdown",
   "metadata": {
    "slideshow": {
     "slide_type": "slide"
    }
   },
   "source": [
    "## Prepare\n",
    "\n",
    "What does \"data cleaning\" mean to you? How can data be \"dirty\"?\n",
    "\n",
    "- Missing data\n",
    "- Numbers in wrong format\n",
    "- Dates in wrong format\n",
    "- Text formatting\n",
    "\n",
    "**Cleaning data is usually the most time-intensive part of the process.**"
   ]
  },
  {
   "cell_type": "markdown",
   "metadata": {
    "slideshow": {
     "slide_type": "slide"
    }
   },
   "source": [
    "## Analyze\n",
    "\n",
    "---\n",
    "\n",
    "Analysis often starts with basic statistics, often called **summary statistics**\n",
    "\n",
    "Statistics that we might expect for the earlier housing variables include:\n",
    "\n",
    "Variable | Mean or Frequency (%)\n",
    "---| ---\n",
    "Square Footage | 2201.3\n",
    "Street Type - Gravel | 8%\n",
    "Street Type - Paved | 92%\n",
    "Number of Bedrooms | 1.8\n",
    "\n",
    "**Besides the mean, what other types of summary statistics might we be interested in?**"
   ]
  },
  {
   "cell_type": "markdown",
   "metadata": {
    "slideshow": {
     "slide_type": "slide"
    }
   },
   "source": [
    "## Creating a Predictive Model \n",
    "---\n",
    "We generate predictive models based on the SMART goal we decided upon earlier.\n",
    "\n",
    "**What are some other business goals we can support as data scientists for this realty company? What are some values we would like to guess?**\n",
    "\n",
    "**What do you think are the steps for model building?**\n",
    "\n",
    "_We'll be spending much of our time in this course on data analysis and predictive modeling._"
   ]
  },
  {
   "cell_type": "markdown",
   "metadata": {
    "slideshow": {
     "slide_type": "slide"
    }
   },
   "source": [
    "## Interpret\n",
    "\n",
    "---\n",
    "\n",
    "### Develop Recommendations and Decisions\n",
    "\n",
    "**Now that you have a model, what are some things you should check?**\n",
    "\n",
    "Can you convert your model's finding into a conclusion or next step for your employer?\n",
    "\n",
    "Think:\n",
    "* Understandability\n",
    "* Actionability"
   ]
  },
  {
   "cell_type": "markdown",
   "metadata": {
    "slideshow": {
     "slide_type": "slide"
    }
   },
   "source": [
    "## Communicate\n",
    "\n",
    "---\n",
    "\n",
    "#### Share the Results of Your Analysis  \n",
    "\n",
    "**NO ONE CARES ABOUT YOUR RESULTS IF THEY CAN'T UNDERSTAND THEM!** This best analysis in the world is useless if you can't communicate it.\n",
    "\n",
    "The most basic form of a data science presentation should include a simple sentence that describes your results:\n",
    "\n",
    "_\"Customers from large companies had twice (CI 1.9, 2.1) the odds for placing another order with Planet Express compared to customers from small companies.\"_\n",
    "\n",
    "Need some inspiration? I'm a huge fan of [FiveThirtyEight.com](http://fivethirtyeight.com). They do an amazing job of presenting complex statistical findings to a general audience. "
   ]
  },
  {
   "cell_type": "markdown",
   "metadata": {
    "slideshow": {
     "slide_type": "slide"
    }
   },
   "source": [
    "## Communicate\n",
    "---\n",
    "#### Public Speaking\n",
    "\n",
    "When crafting a presentation, always consider your audience and make sure to **practice** your presentation beforehand. I practice for these lectures by presenting the entire class alone in my room. This is when I realize the things I wrote down might not work when speaking them aloud.\n",
    "\n",
    "**Anticipate** issues or questions your audience might have.\n",
    "\n",
    "Consider **who your audience is**. A presentation created for your fellow data scientists will be vastly different than a presentation intended for executives trying to make a business decision."
   ]
  },
  {
   "cell_type": "markdown",
   "metadata": {
    "slideshow": {
     "slide_type": "slide"
    }
   },
   "source": [
    "## Wisdom from Albert\n",
    "---\n",
    "#### _\"Everyone is your client.\" -Albert Lee_"
   ]
  },
  {
   "cell_type": "markdown",
   "metadata": {
    "slideshow": {
     "slide_type": "fragment"
    }
   },
   "source": [
    "* Your client is your client."
   ]
  },
  {
   "cell_type": "markdown",
   "metadata": {
    "slideshow": {
     "slide_type": "fragment"
    }
   },
   "source": [
    "* Your manager is your client."
   ]
  },
  {
   "cell_type": "markdown",
   "metadata": {
    "slideshow": {
     "slide_type": "fragment"
    }
   },
   "source": [
    "* Your coworker is your client."
   ]
  },
  {
   "cell_type": "markdown",
   "metadata": {
    "slideshow": {
     "slide_type": "fragment"
    }
   },
   "source": [
    "* Your subordinate is your client."
   ]
  },
  {
   "cell_type": "markdown",
   "metadata": {
    "slideshow": {
     "slide_type": "fragment"
    }
   },
   "source": [
    "If you communicate with _everyone_ as if they are your client, you will go far."
   ]
  },
  {
   "cell_type": "markdown",
   "metadata": {
    "slideshow": {
     "slide_type": "slide"
    }
   },
   "source": [
    "## A Note About Iteration\n",
    "\n",
    "We went through all five steps of the **Data Science Workflow**. That does not mean you will go through five steps. It's almost certain you will need to iterate. Go back and reformulate your question. Edit code that you thought was perfect. The work of a data scientist is never linear.\n",
    "\n",
    "**What are some things you may want to redo or iterate over after presenting your findings?**"
   ]
  },
  {
   "cell_type": "markdown",
   "metadata": {
    "slideshow": {
     "slide_type": "slide"
    }
   },
   "source": [
    "<a id=\"summary1\"></a>\n",
    "# Summary\n",
    "\n",
    "---\n",
    "\n",
    "1) **Crafting good questions is key.** <br>\n",
    "  - Without a thoughtful, targeted, and SMART question, it can be difficult to create an effective model.\n",
    "  \n",
    "2) **Use the data science workflow to iteratively develop solutions.** <br>\n",
    "  - **Frame**: Develop a hypothesis-driven approach to your analysis.\n",
    "  - **Prepare**: Select, import, explore, and clean your data.\n",
    "  - **Analyze**: Structure, visualize, and complete your analysis.\n",
    "  - **Interpret**: Derive recommendations and business decisions from your data.\n",
    "  - **Communicate**: Present (edited) insights from your data to different audiences.\n",
    "  \n",
    "3) **Informed by your past work, continue to refine your findings and models.** <br>\n",
    "  - While the data science workflow may appear to be linear, we consistently return to past steps to implement new findings"
   ]
  },
  {
   "cell_type": "markdown",
   "metadata": {
    "slideshow": {
     "slide_type": "slide"
    }
   },
   "source": [
    "<a id=\"ML\"></a>\n",
    "\n",
    "<img src=\"http://imgur.com/1ZcRyrc.png\" style=\"float: left; margin: 20px; height: 55px\">\n",
    "<br>\n",
    "# Introduction: Machine Learning"
   ]
  },
  {
   "cell_type": "markdown",
   "metadata": {
    "slideshow": {
     "slide_type": "slide"
    }
   },
   "source": [
    "<a id=\"common-ml-defs\"> </a>\n",
    "## Common Machine Learning Definitions\n",
    "\n",
    "There are two main categories of machine learning: **supervised learning** and **unsupervised learning**."
   ]
  },
  {
   "cell_type": "markdown",
   "metadata": {
    "slideshow": {
     "slide_type": "fragment"
    }
   },
   "source": [
    "**Supervised learning (a.k.a., “predictive modeling”):**  \n",
    "_Classification and regression_\n",
    "- Predicts an outcome based on input data.\n",
    "    - Example: Predicts whether an email is spam or ham.\n",
    "- Attempts to generalize.\n",
    "- Requires past data on the element we want to predict (the target)."
   ]
  },
  {
   "cell_type": "markdown",
   "metadata": {
    "slideshow": {
     "slide_type": "fragment"
    }
   },
   "source": [
    "**Unsupervised learning:**  \n",
    "_Clustering and dimensionality reduction_\n",
    "- Extracts structure from data.\n",
    "    - Example: Segmenting grocery store shoppers into “clusters” that exhibit similar behaviors.\n",
    "- Attempts to represent.\n",
    "\n",
    "Oftentimes, we may combine both types of machine learning in a project to reduce the cost of data collection by learning a better representation. This is referred to as **transfer learning**.\n",
    "\n",
    "Unsupervised learning tends to present more difficult problems because its goals are sometimes unclear."
   ]
  },
  {
   "cell_type": "markdown",
   "metadata": {
    "slideshow": {
     "slide_type": "slide"
    }
   },
   "source": [
    "<a id=\"supervised\"></a>\n",
    "## Supervised Learning\n",
    "\n",
    "Supervised learning tends to be the most frequent type of work that data scientists do and will be the main focus of this course. How does supervised learning work?\n",
    "\n",
    "1) We train a **machine learning model** (more on that shortly) using **labeled data** (the _\"Y\"_ variable). <br>\n",
    "- The model learns some kind of relationship between the features (X) and the response (Y).\n",
    "\n",
    "2) We make predictions on **new data** for which the response is unknown. <br>\n",
    "\n",
    "The primary goal of supervised learning is to build a model that “generalizes” — i.e., accurately predicts the **future** rather than the **past**!"
   ]
  },
  {
   "cell_type": "markdown",
   "metadata": {
    "slideshow": {
     "slide_type": "slide"
    }
   },
   "source": [
    "## Practice: Classification vs. Regression\n",
    "\n",
    "There are two categories of supervised learning:\n",
    "\n",
    "**Regression**\n",
    "- The outcome we are trying to predict is a continuous value.\n",
    "    - **Can you think of anything we would want to predict like this?** \n",
    "\n",
    "**Classification**\n",
    "- The outcome we are trying to predict is categorical (i.e., it comes in one of a set number of classes).\n",
    "    - **Can you think of anything that we would want to predict like this?**\n",
    "\n",
    "The type of supervised learning problem has nothing to do with the features; only the response matters!"
   ]
  },
  {
   "cell_type": "markdown",
   "metadata": {
    "slideshow": {
     "slide_type": "slide"
    }
   },
   "source": [
    "## Unsupervised Learning\n",
    "\n",
    "#### Common Types of Unsupervised Learning\n",
    "\n",
    "- **Clustering:** Groups “similar” data points together.\n",
    "- **Dimensionality reduction:** Reducing the number of variables used without sacrificing too much."
   ]
  },
  {
   "cell_type": "markdown",
   "metadata": {
    "slideshow": {
     "slide_type": "slide"
    }
   },
   "source": [
    "## Clustering\n",
    "\n",
    "Imagine that we had a bunch of coins we wanted to automatically split into groups. An unsupervised learning technique would involve the following steps:\n",
    "\n",
    "1) Clustering the coins based on “similarity\" — this could be through the size, the material, or the language on the coins. <br>\n",
    "2) Inspecting the grouping that the algorithm found.\n",
    "\n",
    "Hopefully this would put the coins into sets of related groups."
   ]
  },
  {
   "cell_type": "markdown",
   "metadata": {
    "slideshow": {
     "slide_type": "fragment"
    }
   },
   "source": [
    "## Dimensionality Reduction\n",
    "\n",
    "Imagine that we had a huge amount of features related to those coins — country of origin, size, weight, mass, density, condition, chemical makeup, etc. Moreover, say that we had thousands or (in some cases, millions) of different features. Not all of these features are helpful! \n",
    "\n",
    "You probably already know the scientific property:"
   ]
  },
  {
   "cell_type": "markdown",
   "metadata": {
    "slideshow": {
     "slide_type": "fragment"
    }
   },
   "source": [
    "$$\\dfrac {mass} {size} = density$$"
   ]
  },
  {
   "cell_type": "markdown",
   "metadata": {
    "slideshow": {
     "slide_type": "fragment"
    }
   },
   "source": [
    "Here, density could take the place of two different features from before. Instead of using three variables, we only need one! Many dimensionality reduction algorithms do this kind of recognition on a much grander scale. They're often used on data with hundreds of variables.\n",
    "\n",
    "Sometimes unsupervised learning is used as a “preprocessing” step for supervised learning. (Can you guess how?)"
   ]
  },
  {
   "cell_type": "markdown",
   "metadata": {
    "slideshow": {
     "slide_type": "slide"
    }
   },
   "source": [
    "### Examples\n",
    "\n",
    "**Supervised Learning: Coin Classifier**\n",
    "\n",
    "- **Observations:** Coins.\n",
    "- **Features:** Size and mass.\n",
    "- **Response or target variable:** Hand-labeled coin type.\n",
    "\n",
    "- Train a machine learning model using labeled data.\n",
    "    - The model learns the relationship between the features and the coin type.\n",
    "\n",
    "- Make predictions on new data for which the response is unknown.\n",
    "    - Give the model a new coin and it will predict the coin type automatically.\n",
    "    \n",
    "**Unsupervised Learning: Types of Customers at a Bar**\n",
    "\n",
    "- **Observations:** Customers.\n",
    "- **Features:** Drink purchases, people they interact with, etc.\n",
    "- **Response or target variable:** There isn’t one — instead, we group similar customers together."
   ]
  },
  {
   "cell_type": "markdown",
   "metadata": {
    "slideshow": {
     "slide_type": "slide"
    }
   },
   "source": [
    "<a id = 'algorithm'></a>\n",
    "\n",
    "## Algorithms\n",
    "\n",
    "The underlying engine of all ML models is some **algorithm**. These algorithms are used to help identify trends, represent said trends, and explain the overall variance of the data. If they already sound complicated, it's because they usually are. While we'll learn about the algorithms hiding behind most of the techniques we learn in this class, we'll let the computer handle their implimentation.\n",
    "\n",
    "Let's say we are a real estate agent looking to price a house using data of other home sales. Suppose we only have **sale price** and **square footage** as variables to work with. "
   ]
  },
  {
   "cell_type": "markdown",
   "metadata": {
    "slideshow": {
     "slide_type": "fragment"
    }
   },
   "source": [
    "Suppose we also think that a **linear model** is a good technique to use here. That is, we think that the traditional algebra equation\n",
    "\n",
    "$$y = mx + b$$\n",
    "\n",
    "can describe home prices as follows:\n",
    "\n",
    "$$price = m \\cdot sqft + b$$"
   ]
  },
  {
   "cell_type": "markdown",
   "metadata": {
    "slideshow": {
     "slide_type": "fragment"
    }
   },
   "source": [
    "Combining all of our data, Python tells us that the equation\n",
    "\n",
    "$$price = 114sqft + 0$$\n",
    "\n",
    "adequately predicts sales price. How much can we expect a 2,500 square foot home to sell for?"
   ]
  },
  {
   "cell_type": "markdown",
   "metadata": {
    "slideshow": {
     "slide_type": "slide"
    }
   },
   "source": [
    "## Final Algorithm\n",
    "\n",
    "$$ price = 114sqft $$\n",
    "\n",
    "This is an example of a model built with the intent of predicting price. The algorithm is simple and built off of limited information. Typically, our models will be more complex, and we'll consider a greater amount of prior data to help us develop a final algorithm.  "
   ]
  },
  {
   "cell_type": "markdown",
   "metadata": {
    "slideshow": {
     "slide_type": "fragment"
    }
   },
   "source": [
    "## Algorithm Training \n",
    "\n",
    "In our example, we used previously known information to find our coefficients. This action is also referred to as \"training.\" But, let's make something clear:\n",
    "\n",
    "- Model building would be the task of constructing an actual algorithm.\n",
    "    - This is the linear model of $ y = mx + b $.\n",
    "- Training involves figuring out the coefficient and the _y_-intercept the model uses for _our intended purpose_.  \n",
    "    - The coefficients uncovered via training were $m = 114$ and $b = 0$."
   ]
  },
  {
   "cell_type": "markdown",
   "metadata": {
    "slideshow": {
     "slide_type": "slide"
    }
   },
   "source": [
    "<a id=\"conclusion2\"></a>\n",
    "## Conclusion\n",
    "\n",
    "---\n",
    "\n",
    "Check to see if you can answer the following questions easily:\n",
    "\n",
    "- What is data science?\n",
    "- What is the data science workflow?\n",
    "- What is the difference between supervised and unsupervised learning?\n",
    "- What is the difference between regression and classification? \n",
    "- What is an algorithm?"
   ]
  },
  {
   "cell_type": "markdown",
   "metadata": {
    "slideshow": {
     "slide_type": "slide"
    }
   },
   "source": [
    "<a id=\"course-info\"> </a>\n",
    "# Course Information\n",
    "    \n",
    "### GA offers a special learning environment.\n",
    "\n",
    "- What you should know: GA is a global community of individuals and organizations empowered to pursue the work we love.\n",
    "- Who we are: Meet your instructional team.\n",
    "- How to provide feedback: exit tickets, mid-course survey, and end-of-course survey. We want to hear from you!"
   ]
  },
  {
   "cell_type": "markdown",
   "metadata": {
    "slideshow": {
     "slide_type": "slide"
    }
   },
   "source": [
    "## Road to Success\n",
    "\n",
    "- **The emotional cycle of change**: This course is **fast** and covers **a lot** of material. There will be times when you may feel discouraged or overwhelmed, but don't give up - this is natural (and part of the design). By the end of the course, you'll feel more confident in your ability to define problems, analyze data, and prototype solutions. \n",
    "- **Student learning responsibility**: Our lessons cover topic foundations, but there is always more to learn! You are responsible for your learning experience - but don't get overwhelmed! Instead, just make sure you follow along, practice as much as possible, and ask questions.\n",
    "- **GA requirements**: Show up. Be on time. Participate. Submit your projects. Allow yourself to struggle. Read the docs. Have fun!\n",
    "- Q&A?\n"
   ]
  },
  {
   "cell_type": "markdown",
   "metadata": {
    "slideshow": {
     "slide_type": "slide"
    }
   },
   "source": [
    "### Course Outline and Project Due Dates\n",
    "\n",
    "General Assembly's part-time Data Science materials are organized into **four** units.\n",
    "\n",
    "| Unit   | Title  | Topics Covered  | Length | \n",
    "| ---    | ---    |  ---     | ---    |\n",
    "| Unit 1 | Foundations       | Python Syntax, Development Environment | Lessons 1–4 |\n",
    "| Unit 2 | Working with Data | Stats Review, Visualization, & EDA     | Lessons 5–9  | \n",
    "| Unit 3 | Data Modeling     | Regression, Classification, & KNN      | Lessons 10–14  | \n",
    "| Unit 4 | Applications      | Decision Trees, NLP, & Flex Topics     | Lessons 15–19  | "
   ]
  },
  {
   "cell_type": "markdown",
   "metadata": {
    "slideshow": {
     "slide_type": "notes"
    }
   },
   "source": [
    "> **Instructor Note:** If there is time, briefly walk through the entire `course-info` repository with your students. If not, refer them to it for class information."
   ]
  }
 ],
 "metadata": {
  "celltoolbar": "Slideshow",
  "kernelspec": {
   "display_name": "Python 3",
   "language": "python",
   "name": "python3"
  },
  "language_info": {
   "codemirror_mode": {
    "name": "ipython",
    "version": 3
   },
   "file_extension": ".py",
   "mimetype": "text/x-python",
   "name": "python",
   "nbconvert_exporter": "python",
   "pygments_lexer": "ipython3",
   "version": "3.6.4"
  }
 },
 "nbformat": 4,
 "nbformat_minor": 2
}
