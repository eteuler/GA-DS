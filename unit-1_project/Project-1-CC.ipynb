{
 "cells": [
  {
   "cell_type": "markdown",
   "metadata": {},
   "source": [
    "<img src=\"http://imgur.com/1ZcRyrc.png\" style=\"float: left; margin: 20px; height: 55px\">\n",
    "\n",
    "# Project 1: Python Coding Exercises\n",
    "<br><br>\n",
    "_Instructor:_ Tim Book, General Assembly DC\n",
    "\n",
    "_Authors: Joseph Nelson (DC) _\n",
    "\n",
    "---\n",
    "\n",
    "### Due Date: 7/25/18 by midnight\n",
    "\n",
    "#### To Submit:\n",
    "Please fork this repo to your personal page. Solve the exercises in the blank cells provided and push. The graders will use the file diffences to grade."
   ]
  },
  {
   "cell_type": "markdown",
   "metadata": {},
   "source": [
    "The following code challenges are drawn from common exercises used in technical interviews.\n",
    "\n",
    "Please note that there may be several ways to approach each challenge. If you get stuck, try mapping out your approach in pseudocode first. Finally, while solutions to problems like these may be found online, remember that if you copy/paste code that you can't explain, you'll be missing out on the point of the project. The only way to truly learn a new skill is through practice, trial, and error - we can only help you improve by understanding where you are having trouble."
   ]
  },
  {
   "cell_type": "markdown",
   "metadata": {},
   "source": [
    "### Challenge 1: Largest Palindrome\n",
    "A palindromic number reads the same both ways. For example, 1234321 is a palindrome. The largest palindrome made from the product of two two-digit numbers is 9009 = 91 × 99. Find the largest palindrome made from the product of two three-digit numbers. Afterward, write a brief explanation walking through your code's logic in markdown."
   ]
  },
  {
   "cell_type": "code",
   "execution_count": 22,
   "metadata": {},
   "outputs": [
    {
     "data": {
      "text/plain": [
       "906609"
      ]
     },
     "execution_count": 22,
     "metadata": {},
     "output_type": "execute_result"
    }
   ],
   "source": [
    "#s[::-1]\n",
    "#easiest way to reverse a string!\n",
    "\n",
    "pal_list = []\n",
    "#creation of a function that identifies palindromes with true or false\n",
    "def pal(n):\n",
    "    '''checks if the number entered is a palindrome or not, return True or False'''\n",
    "    return int(str(n)[::-1]) == n\n",
    "\n",
    "pal(9009) #should yield \"TRUE\"\n",
    "      \n",
    "def palindigits(upperb, lowerb):\n",
    "    '''This function will determine the highest palindrome product from two numbers within a given range'''\n",
    "    for n in range(upperb, lowerb): \n",
    "        for nums in range(upperb, lowerb):\n",
    "    #determining all the products of the numbers within given range\n",
    "            product = n * nums\n",
    "    #if one of these products is a palindrome, this if statement checks (using pal() function) and then adds it to\n",
    "    #pal_list if True\n",
    "            if pal(product) == True: \n",
    "                pal_list.append(product)\n",
    "    #function will return the max number in the palindrome list (pal_list)\n",
    "    return max(pal_list)\n",
    "                \n",
    "palindigits(100, 1000)"
   ]
  },
  {
   "cell_type": "markdown",
   "metadata": {},
   "source": [
    "\n",
    "### Challenge 2: Summation of Primes\n",
    "The sum of the primes below 10 is 2 + 3 + 5 + 7 = 17. Find the sum of all the primes below 2,000. Afterward, write a brief explanation walking through your code's logic in markdown."
   ]
  },
  {
   "cell_type": "code",
   "execution_count": 2,
   "metadata": {},
   "outputs": [
    {
     "data": {
      "text/plain": [
       "277050"
      ]
     },
     "execution_count": 2,
     "metadata": {},
     "output_type": "execute_result"
    }
   ],
   "source": [
    "#first line creates a empty list, which will be appended to as more primes #'s are found\n",
    "prime_list = []\n",
    "\n",
    "#creation of a function that will return True or False when a number is entered(code gotten from a lecture notebook)\n",
    "def prime_tf(number):\n",
    " # if statement, 1 is not a prime number, so if 1 is entered this line ensure False will be returned   \n",
    "    if number == 1:\n",
    "        return False\n",
    " #if statement to return True if 2 is entered, 2 is lowest prime number   \n",
    "    if number == 2:\n",
    "        return True\n",
    " #for loop where if any number returns 0 after using modulo operator with any other integer, this number is NOT prime\n",
    " #therefore if 0 is returned return FALSE\n",
    "    for n in range(2,number): \n",
    "            if (number % n) == 0:\n",
    "                return False\n",
    " \n",
    "    return True\n",
    "            \n",
    "            \n",
    "#print(prime_tf(1))\n",
    "\n",
    "\n",
    "#creating a function that sums together all prime number within a range of number, the upper bound of range is what is\n",
    "#entered with this function\n",
    "def primer(upper): \n",
    "#for loop that will go through all numbers between 1 and the upperbound entered\n",
    "    for i in range(1, upper):\n",
    "#checks to see if any of these numbers are prime using a if statement used with the previouly created function\n",
    "        if prime_tf(i) == True:\n",
    "# if it is prime, add it to 'prime_list', if it is not prime, do nothing        \n",
    "            prime_list.append(i)\n",
    "        else:\n",
    "            pass\n",
    "# last step is using the sum command to add together all values that were appended to 'prime_list'\n",
    "    return(sum(prime_list))\n",
    "\n",
    "primer(2000)"
   ]
  },
  {
   "cell_type": "markdown",
   "metadata": {},
   "source": [
    "### Challenge 3: Multiples of 3 and 5\n",
    "If we list all of the natural numbers below 10 that are multiples of 3 or 5, we get 3, 5, 6, and 9. The sum of these multiples is 23. Find the sum of all the multiples of 3 and 5 below 1,000. Afterward, write a brief explanation walking through your code's logic in markdown."
   ]
  },
  {
   "cell_type": "code",
   "execution_count": 50,
   "metadata": {},
   "outputs": [
    {
     "name": "stdout",
     "output_type": "stream",
     "text": [
      "233168\n"
     ]
    }
   ],
   "source": [
    "#first attempt was not a function, REAL ANSWER IN NEXT CELL\n",
    "\n",
    "nums_list = []\n",
    "\n",
    "for i in range(1,1000):\n",
    "    if i % 3 == 0 or i % 5 ==0:\n",
    "        nums_list.append(i)\n",
    "\n",
    "        \n",
    "#print(nums_list)\n",
    "chal3answer = sum(nums_list)\n",
    "\n",
    "print(chal3answer)"
   ]
  },
  {
   "cell_type": "code",
   "execution_count": 55,
   "metadata": {},
   "outputs": [
    {
     "data": {
      "text/plain": [
       "233168"
      ]
     },
     "execution_count": 55,
     "metadata": {},
     "output_type": "execute_result"
    }
   ],
   "source": [
    "#ANSWER AS A FUNCTION!\n",
    "\n",
    "#create empty list that will be appended to as the for loop discovers multiples of 3 and 5\n",
    "multiple_list = []\n",
    "\n",
    "#creation of function that is looking for upper range (in this case 1000)\n",
    "def multis(upperbound):\n",
    "    #for the numbers in the range 1 -> upperbound, this for loop is going through each number and appending the numbers\n",
    "    #to the list that yielded 0 when the modulo operator was used with 5 and 3\n",
    "    #use of the 'or' command so that as long as its true for 1, the number will be appended to list\n",
    "    for i in range(1,upperbound):\n",
    "        if i % 3 == 0 or i % 5 == 0:\n",
    "            multiple_list.append(i)\n",
    "    #returns the sum of the whole list        \n",
    "    return(sum(multiple_list)) \n",
    "\n",
    "multis(1000)"
   ]
  },
  {
   "cell_type": "markdown",
   "metadata": {},
   "source": [
    "### Challenge 4: String Compressor\n",
    "Implement a method to perform basic string compression using the counts of repeated characters. (This is called run-length encoding.) For example, the string \"aabcccccaaa\" would become a2b1c5a3. If the “compressed” string would not become smaller than the original string, your method should return the original string. You can assume the string has only uppercase and lowercase letters (a–z). Specify whether your solution is case sensitive or case insensitive and what you would need to change to make it the other. Afterward, write a brief explanation walking through your code's logic in markdown."
   ]
  },
  {
   "cell_type": "code",
   "execution_count": 48,
   "metadata": {},
   "outputs": [],
   "source": [
    "def compressor(word):\n",
    "    #creation of a copy of the word, will be manipulated in while/for loop\n",
    "    word_copy = word\n",
    "    #creation of object that will end up being the output string\n",
    "    str_out = \"\"\n",
    "    #while word_copy: or \n",
    "    while len(word_copy) > 0:\n",
    "        first = word_copy[0]\n",
    "        counter = 0\n",
    "        #for loop created to go through each letter in 'word' until it finds a different letter\n",
    "        for char in word_copy: \n",
    "            if char == first:\n",
    "                counter += 1\n",
    "            else: \n",
    "                break #break only applies to the loop its within, restarts loop for the next differnt letter\n",
    "                #line below is combining all the different letter+count (a4) as its going through each different letter\n",
    "        str_out = str_out + first + str(counter)\n",
    "        word_copy = word_copy[counter:]\n",
    "      # this if statement ensures that the “compressed” string would not be larger than the original string \n",
    "    if len(str_out) > len(word): \n",
    "            return word\n",
    "    else:\n",
    "            return str_out"
   ]
  },
  {
   "cell_type": "code",
   "execution_count": 49,
   "metadata": {},
   "outputs": [
    {
     "data": {
      "text/plain": [
       "'a1b4c6d6e6f4g6h5i6j3k5l6m3n3o5p5q5r5s4t4u5v2a3'"
      ]
     },
     "execution_count": 49,
     "metadata": {},
     "output_type": "execute_result"
    }
   ],
   "source": [
    "compressor('abbbbccccccddddddeeeeeeffffgggggghhhhhiiiiiijjjkkkkkllllllmmmnnnooooopppppqqqqqrrrrrssssttttuuuuuvvaaa')"
   ]
  },
  {
   "cell_type": "code",
   "execution_count": 56,
   "metadata": {},
   "outputs": [
    {
     "data": {
      "text/plain": [
       "'abcdefff'"
      ]
     },
     "execution_count": 56,
     "metadata": {},
     "output_type": "execute_result"
    }
   ],
   "source": [
    "compressor('abcdefff')"
   ]
  },
  {
   "cell_type": "markdown",
   "metadata": {},
   "source": [
    "### *BONUS* Challenge: FizzBuzz\n",
    "Write a program that prints all of the numbers from 1 to 100. For multiples of 3, instead of the number, print \"Fizz;\" for multiples of 5, print \"Buzz.\" For numbers that are multiples of both 3 and 5, print \"FizzBuzz.\" Afterward, write a brief explanation walking through your code's logic in markdown."
   ]
  },
  {
   "cell_type": "code",
   "execution_count": 9,
   "metadata": {},
   "outputs": [
    {
     "name": "stdout",
     "output_type": "stream",
     "text": [
      "1\n",
      "2\n",
      "Fizz\n",
      "4\n",
      "Buzz\n",
      "Fizz\n",
      "7\n",
      "8\n",
      "Fizz\n",
      "Buzz\n",
      "11\n",
      "Fizz\n",
      "13\n",
      "14\n",
      "FizzBuzz\n",
      "Fizz\n",
      "16\n",
      "17\n",
      "Fizz\n",
      "19\n",
      "Buzz\n",
      "Fizz\n",
      "22\n",
      "23\n",
      "Fizz\n",
      "Buzz\n",
      "26\n",
      "Fizz\n",
      "28\n",
      "29\n",
      "FizzBuzz\n",
      "Fizz\n",
      "31\n",
      "32\n",
      "Fizz\n",
      "34\n",
      "Buzz\n",
      "Fizz\n",
      "37\n",
      "38\n",
      "Fizz\n",
      "Buzz\n",
      "41\n",
      "Fizz\n",
      "43\n",
      "44\n",
      "FizzBuzz\n",
      "Fizz\n",
      "46\n",
      "47\n",
      "Fizz\n",
      "49\n",
      "Buzz\n",
      "Fizz\n",
      "52\n",
      "53\n",
      "Fizz\n",
      "Buzz\n",
      "56\n",
      "Fizz\n",
      "58\n",
      "59\n",
      "FizzBuzz\n",
      "Fizz\n",
      "61\n",
      "62\n",
      "Fizz\n",
      "64\n",
      "Buzz\n",
      "Fizz\n",
      "67\n",
      "68\n",
      "Fizz\n",
      "Buzz\n",
      "71\n",
      "Fizz\n",
      "73\n",
      "74\n",
      "FizzBuzz\n",
      "Fizz\n",
      "76\n",
      "77\n",
      "Fizz\n",
      "79\n",
      "Buzz\n",
      "Fizz\n",
      "82\n",
      "83\n",
      "Fizz\n",
      "Buzz\n",
      "86\n",
      "Fizz\n",
      "88\n",
      "89\n",
      "FizzBuzz\n",
      "Fizz\n",
      "91\n",
      "92\n",
      "Fizz\n",
      "94\n",
      "Buzz\n",
      "Fizz\n",
      "97\n",
      "98\n",
      "Fizz\n"
     ]
    }
   ],
   "source": [
    "\n",
    "#function calls for lower and upper bound of range\n",
    "def fizzbuzz(lowerb, upperb):\n",
    "    for numbs in range(lowerb, upperb):\n",
    " #if number is divisible by 3 and 5 (use of modulo operator) return \"Fizzbuzz\" **most specific first      \n",
    "        if numbs % 3 == 0 and numbs % 5 == 0: \n",
    "            print('FizzBuzz')\n",
    "#if number is divisible by just 3, return Fizz\n",
    "        if numbs % 3 == 0: \n",
    "            print('Fizz')\n",
    "#if number is divisible by just 5, return Buzz\n",
    "        elif numbs % 5 == 0: \n",
    "            print('Buzz')\n",
    "#for all other numbers that are not divisible by 3, 5, or both, just return number\n",
    "        else: \n",
    "            print(numbs)\n",
    "        \n",
    "\n",
    "       \n",
    "    \n",
    "fizzbuzz(1,100)    "
   ]
  }
 ],
 "metadata": {
  "anaconda-cloud": {},
  "kernelspec": {
   "display_name": "Python 3",
   "language": "python",
   "name": "python3"
  },
  "language_info": {
   "codemirror_mode": {
    "name": "ipython",
    "version": 3
   },
   "file_extension": ".py",
   "mimetype": "text/x-python",
   "name": "python",
   "nbconvert_exporter": "python",
   "pygments_lexer": "ipython3",
   "version": "3.6.5"
  }
 },
 "nbformat": 4,
 "nbformat_minor": 2
}
